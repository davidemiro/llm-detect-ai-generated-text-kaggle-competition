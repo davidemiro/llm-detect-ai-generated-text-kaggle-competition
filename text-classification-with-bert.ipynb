{
 "cells": [
  {
   "cell_type": "markdown",
   "id": "c3f5d843",
   "metadata": {
    "papermill": {
     "duration": 0.00449,
     "end_time": "2024-01-21T09:35:31.656505",
     "exception": false,
     "start_time": "2024-01-21T09:35:31.652015",
     "status": "completed"
    },
    "tags": []
   },
   "source": [
    "# LLM generation text detection "
   ]
  },
  {
   "cell_type": "code",
   "execution_count": 1,
   "id": "b378a823",
   "metadata": {
    "execution": {
     "iopub.execute_input": "2024-01-21T09:35:31.666596Z",
     "iopub.status.busy": "2024-01-21T09:35:31.666234Z",
     "iopub.status.idle": "2024-01-21T09:36:29.036839Z",
     "shell.execute_reply": "2024-01-21T09:36:29.035672Z"
    },
    "papermill": {
     "duration": 57.378467,
     "end_time": "2024-01-21T09:36:29.039309",
     "exception": false,
     "start_time": "2024-01-21T09:35:31.660842",
     "status": "completed"
    },
    "tags": []
   },
   "outputs": [
    {
     "name": "stderr",
     "output_type": "stream",
     "text": [
      "/opt/conda/lib/python3.10/site-packages/scipy/__init__.py:146: UserWarning: A NumPy version >=1.16.5 and <1.23.0 is required for this version of SciPy (detected version 1.24.3\n",
      "  warnings.warn(f\"A NumPy version >={np_minversion} and <{np_maxversion}\"\n"
     ]
    },
    {
     "name": "stdout",
     "output_type": "stream",
     "text": [
      "Using TensorFlow backend\n"
     ]
    },
    {
     "name": "stderr",
     "output_type": "stream",
     "text": [
      "/tmp/ipykernel_26/2416471652.py:14: DtypeWarning: Columns (4) have mixed types. Specify dtype option on import or set low_memory=False.\n",
      "  train_daigt_external = pd.read_csv(\"/kaggle/input/daigt-external-train-dataset/train_external_drcat_02.csv\")\n"
     ]
    }
   ],
   "source": [
    "import numpy as np # linear algebra\n",
    "import pandas as pd # data processing, CSV file I/O (e.g. pd.read_csv)\n",
    "import keras\n",
    "import keras_nlp\n",
    "import re\n",
    "import spacy\n",
    "import time\n",
    "import string\n",
    "\n",
    "\n",
    "train_essays = pd.read_csv(\"/kaggle/input/llm-detect-ai-generated-text/train_essays.csv\")\n",
    "train_prompts = pd.read_csv(\"/kaggle/input/llm-detect-ai-generated-text/train_prompts.csv\")\n",
    "train_daigt_v2 = pd.read_csv(\"/kaggle/input/daigt-v2-train-dataset/train_v2_drcat_02.csv\")\n",
    "train_daigt_external = pd.read_csv(\"/kaggle/input/daigt-external-train-dataset/train_external_drcat_02.csv\")\n",
    "train_daigt_v3_01 = pd.read_csv(\"/kaggle/input/daigt-v3-train-dataset/train_v3_drcat_01.csv\")\n",
    "train_daigt_v3_02 = pd.read_csv(\"/kaggle/input/daigt-v3-train-dataset/train_v3_drcat_02.csv\")\n",
    "\n",
    "\n"
   ]
  },
  {
   "cell_type": "code",
   "execution_count": 2,
   "id": "67427723",
   "metadata": {
    "execution": {
     "iopub.execute_input": "2024-01-21T09:36:29.049941Z",
     "iopub.status.busy": "2024-01-21T09:36:29.049588Z",
     "iopub.status.idle": "2024-01-21T09:36:29.058045Z",
     "shell.execute_reply": "2024-01-21T09:36:29.057061Z"
    },
    "papermill": {
     "duration": 0.016184,
     "end_time": "2024-01-21T09:36:29.060049",
     "exception": false,
     "start_time": "2024-01-21T09:36:29.043865",
     "status": "completed"
    },
    "tags": []
   },
   "outputs": [
    {
     "data": {
      "text/plain": [
       "Index(['essay_id', 'text', 'label', 'source', 'prompt'], dtype='object')"
      ]
     },
     "execution_count": 2,
     "metadata": {},
     "output_type": "execute_result"
    }
   ],
   "source": [
    "train_daigt_external.columns"
   ]
  },
  {
   "cell_type": "markdown",
   "id": "a7f1aaba",
   "metadata": {
    "papermill": {
     "duration": 0.004411,
     "end_time": "2024-01-21T09:36:29.069013",
     "exception": false,
     "start_time": "2024-01-21T09:36:29.064602",
     "status": "completed"
    },
    "tags": []
   },
   "source": [
    "## Datasets "
   ]
  },
  {
   "cell_type": "code",
   "execution_count": 3,
   "id": "5c55f584",
   "metadata": {
    "execution": {
     "iopub.execute_input": "2024-01-21T09:36:29.080760Z",
     "iopub.status.busy": "2024-01-21T09:36:29.080453Z",
     "iopub.status.idle": "2024-01-21T09:36:29.549331Z",
     "shell.execute_reply": "2024-01-21T09:36:29.548533Z"
    },
    "papermill": {
     "duration": 0.476705,
     "end_time": "2024-01-21T09:36:29.551682",
     "exception": false,
     "start_time": "2024-01-21T09:36:29.074977",
     "status": "completed"
    },
    "tags": []
   },
   "outputs": [],
   "source": [
    "train_daigt_v2[\"generated\"] = train_daigt_v2[\"label\"].astype(int)\n",
    "train_daigt_external = train_daigt_external.dropna(subset=[\"label\"])\n",
    "train_daigt_external[\"generated\"] = train_daigt_external[\"label\"].astype(int)\n",
    "\n",
    "train_daigt_v3_01[\"generated\"] = train_daigt_v3_01[\"label\"].astype(int)\n",
    "train_daigt_v3_02[\"generated\"] = train_daigt_v3_02[\"label\"].astype(int)\n",
    "\n",
    "train_essays = train_essays.merge(train_prompts, on='prompt_id', how='inner')\n",
    "\n",
    "train_essays = pd.concat([train_essays,train_daigt_v2,train_daigt_external,train_daigt_v3_01,train_daigt_v3_02])\n",
    "\n",
    "train_essays = train_essays.drop_duplicates(subset=['text'])\n",
    "train_essays.reset_index(drop=True, inplace=True)\n",
    "#train_essays.loc[:,[\"prompt_name\",\"generated\"]].value_counts()\n",
    "\n",
    "train_essays = train_essays.loc[:,[\"text\",\"generated\"]]\n",
    "\n",
    "\n",
    "\n",
    "\n",
    "train_essays = train_essays[train_essays['text'].apply(lambda x: isinstance(x, str))]\n",
    "\n",
    "train_essays = train_essays.sample(frac = 1)"
   ]
  },
  {
   "cell_type": "markdown",
   "id": "6a1d0a30",
   "metadata": {
    "papermill": {
     "duration": 0.004318,
     "end_time": "2024-01-21T09:36:29.560625",
     "exception": false,
     "start_time": "2024-01-21T09:36:29.556307",
     "status": "completed"
    },
    "tags": []
   },
   "source": [
    "## Preprocessing"
   ]
  },
  {
   "cell_type": "code",
   "execution_count": 4,
   "id": "b121e7df",
   "metadata": {
    "execution": {
     "iopub.execute_input": "2024-01-21T09:36:29.570866Z",
     "iopub.status.busy": "2024-01-21T09:36:29.570512Z",
     "iopub.status.idle": "2024-01-21T10:14:39.700774Z",
     "shell.execute_reply": "2024-01-21T10:14:39.699500Z"
    },
    "papermill": {
     "duration": 2290.142247,
     "end_time": "2024-01-21T10:14:39.707184",
     "exception": false,
     "start_time": "2024-01-21T09:36:29.564937",
     "status": "completed"
    },
    "tags": []
   },
   "outputs": [
    {
     "name": "stderr",
     "output_type": "stream",
     "text": [
      "/opt/conda/lib/python3.10/site-packages/numpy/core/fromnumeric.py:57: FutureWarning: 'Series.swapaxes' is deprecated and will be removed in a future version. Please use 'Series.transpose' instead.\n",
      "  return bound(*args, **kwds)\n"
     ]
    },
    {
     "name": "stdout",
     "output_type": "stream",
     "text": [
      "2288.966281414032\n"
     ]
    }
   ],
   "source": [
    "from multiprocessing import Pool\n",
    "\n",
    "# Load the English NLP model\n",
    "nlp = spacy.load(\"en_core_web_sm\")\n",
    "\n",
    "table = str.maketrans(\"\", \"\", string.punctuation)\n",
    "table[10] = None #\\n\n",
    "table[92] = None #\\\n",
    "\n",
    "\n",
    "#to lower\n",
    "for code in range(26):\n",
    "    table[code + 65] = code +97\n",
    "\n",
    "\n",
    "\n",
    "\n",
    "def preprocess_text(text):\n",
    "    \n",
    "    #characters level preprocessing\n",
    "    #remove \\n and \\, remove puntuactions, to lower case\n",
    "    text = text.translate(table)\n",
    "    \n",
    "    # Tokenization using spaCy\n",
    "    doc = nlp(text)\n",
    "    \n",
    "    # Remove stopwords and lemmization using spaCy's built-in stopword list\n",
    "    tokens = [token.lemma_ for token in doc if not nlp.vocab[token.text].is_stop]\n",
    "    \n",
    "    return \" \".join(tokens)\n",
    "\n",
    "\n",
    "\n",
    "\n",
    "start_time = time.time()\n",
    "# Number of parallel processes (adjust according to your CPU cores)\n",
    "num_processes = 4\n",
    "\n",
    "# Split the DataFrame into chunks\n",
    "chunks = np.array_split(train_essays.loc[:,\"text\"], num_processes)\n",
    "\n",
    "# Function to apply to each chunk in parallel\n",
    "def parallel_map(chunk):\n",
    "    return chunk.map(lambda x : preprocess_text(x))\n",
    "\n",
    "\n",
    "# Initialize a Pool for parallel processing\n",
    "with Pool(num_processes) as pool:\n",
    "    # Use map function to apply the parallel_map function to each chunk\n",
    "    results = pool.map(parallel_map, chunks)\n",
    "\n",
    "# Concatenate the results back into a single DataFrame\n",
    "train_essays[\"text\"] = pd.concat(results, axis=0)\n",
    "\n",
    "\n",
    "\n",
    "#train_essays.loc[:,\"text\"] = train_essays.loc[:,\"text\"].map(lambda x : preprocess_text(x))\n",
    "# Convert back to pandas DataFrame (if needed)\n",
    "end_time = time.time()\n",
    "\n",
    "print(end_time - start_time)"
   ]
  },
  {
   "cell_type": "markdown",
   "id": "b06b5d3e",
   "metadata": {
    "papermill": {
     "duration": 0.004479,
     "end_time": "2024-01-21T10:14:39.716431",
     "exception": false,
     "start_time": "2024-01-21T10:14:39.711952",
     "status": "completed"
    },
    "tags": []
   },
   "source": [
    "## DistilBERT"
   ]
  },
  {
   "cell_type": "code",
   "execution_count": 5,
   "id": "f018c817",
   "metadata": {
    "_cell_guid": "b1076dfc-b9ad-4769-8c92-a6c4dae69d19",
    "_uuid": "8f2839f25d086af736a60e9eeb907d3b93b6e0e5",
    "execution": {
     "iopub.execute_input": "2024-01-21T10:14:39.727854Z",
     "iopub.status.busy": "2024-01-21T10:14:39.726871Z",
     "iopub.status.idle": "2024-01-21T10:14:54.879518Z",
     "shell.execute_reply": "2024-01-21T10:14:54.878437Z"
    },
    "papermill": {
     "duration": 15.161137,
     "end_time": "2024-01-21T10:14:54.882069",
     "exception": false,
     "start_time": "2024-01-21T10:14:39.720932",
     "status": "completed"
    },
    "tags": []
   },
   "outputs": [
    {
     "name": "stderr",
     "output_type": "stream",
     "text": [
      "Attaching 'tokenizer.json' from model 'keras/distil_bert/keras/distil_bert_base_en_uncased/1' to your Kaggle notebook...\n"
     ]
    },
    {
     "name": "stdout",
     "output_type": "stream",
     "text": [
      "Index(['text', 'generated'], dtype='object')\n"
     ]
    },
    {
     "name": "stderr",
     "output_type": "stream",
     "text": [
      "Attaching 'tokenizer.json' from model 'keras/distil_bert/keras/distil_bert_base_en_uncased/1' to your Kaggle notebook...\n",
      "Attaching 'assets/tokenizer/vocabulary.txt' from model 'keras/distil_bert/keras/distil_bert_base_en_uncased/1' to your Kaggle notebook...\n",
      "Attaching 'config.json' from model 'keras/distil_bert/keras/distil_bert_base_en_uncased/1' to your Kaggle notebook...\n",
      "Attaching 'config.json' from model 'keras/distil_bert/keras/distil_bert_base_en_uncased/1' to your Kaggle notebook...\n",
      "Attaching 'model.weights.h5' from model 'keras/distil_bert/keras/distil_bert_base_en_uncased/1' to your Kaggle notebook...\n",
      "Attaching 'tokenizer.json' from model 'keras/distil_bert/keras/distil_bert_base_en_uncased/1' to your Kaggle notebook...\n",
      "Attaching 'assets/tokenizer/vocabulary.txt' from model 'keras/distil_bert/keras/distil_bert_base_en_uncased/1' to your Kaggle notebook...\n"
     ]
    }
   ],
   "source": [
    "import tensorflow as tf\n",
    "\n",
    "from sklearn.utils.class_weight import compute_class_weight\n",
    "from sklearn.model_selection import train_test_split\n",
    "import matplotlib.pyplot as plt\n",
    "\n",
    "\n",
    "print(train_essays.columns)\n",
    "\n",
    "X = train_essays[\"text\"].values\n",
    "y = train_essays[\"generated\"].values\n",
    "\n",
    "\n",
    "\n",
    "#X_train, X_val, y_train, y_val = train_test_split(X, y, test_size=0.2, stratify=y, random_state=42)\n",
    "\n",
    "# Assuming your labels are 0 and 1\n",
    "class_weights = compute_class_weight('balanced', classes=np.unique(y), y=y)\n",
    "\n",
    "batch_size = 32\n",
    "dropout_prob = 0.3\n",
    "\n",
    "\n",
    "# Preprocessor\n",
    "preprocessor = keras_nlp.models.DistilBertPreprocessor.from_preset(\"distil_bert_base_en_uncased\",\n",
    "                                                            sequence_length=512)\n",
    "\n",
    "\n",
    "# Pretrained classifier.\n",
    "classifier = keras_nlp.models.DistilBertClassifier.from_preset(\n",
    "    \"distil_bert_base_en_uncased\",\n",
    "    preprocessor,\n",
    "    dropout = dropout_prob,\n",
    "    num_classes=1\n",
    ")\n",
    "\n",
    "\n",
    "\n",
    "# Access backbone programmatically (e.g., to change `trainable`).\n",
    "classifier.backbone.trainable = True"
   ]
  },
  {
   "cell_type": "markdown",
   "id": "1e803695",
   "metadata": {
    "papermill": {
     "duration": 0.005173,
     "end_time": "2024-01-21T10:14:54.893197",
     "exception": false,
     "start_time": "2024-01-21T10:14:54.888024",
     "status": "completed"
    },
    "tags": []
   },
   "source": [
    "## Training"
   ]
  },
  {
   "cell_type": "code",
   "execution_count": 6,
   "id": "3a0cc06f",
   "metadata": {
    "execution": {
     "iopub.execute_input": "2024-01-21T10:14:54.905517Z",
     "iopub.status.busy": "2024-01-21T10:14:54.905140Z",
     "iopub.status.idle": "2024-01-21T12:11:41.750716Z",
     "shell.execute_reply": "2024-01-21T12:11:41.749721Z"
    },
    "papermill": {
     "duration": 7006.853995,
     "end_time": "2024-01-21T12:11:41.752724",
     "exception": false,
     "start_time": "2024-01-21T10:14:54.898729",
     "status": "completed"
    },
    "tags": []
   },
   "outputs": [
    {
     "name": "stdout",
     "output_type": "stream",
     "text": [
      "Epoch 1/4\n",
      "2732/2732 [==============================] - 2375s 857ms/step - loss: 0.2567 - auc: 0.9677\n",
      "Epoch 2/4\n",
      "2732/2732 [==============================] - 2314s 847ms/step - loss: 0.1628 - auc: 0.9880\n",
      "Epoch 3/4\n",
      "2732/2732 [==============================] - 2312s 846ms/step - loss: 0.1182 - auc: 0.9927\n"
     ]
    },
    {
     "data": {
      "text/plain": [
       "<keras.src.callbacks.History at 0x7a6e8854c970>"
      ]
     },
     "execution_count": 6,
     "metadata": {},
     "output_type": "execute_result"
    }
   ],
   "source": [
    "early_stopping = keras.callbacks.EarlyStopping(monitor='auc',\n",
    "                                         min_delta = 0.01,\n",
    "                                         patience = 1,\n",
    "                                         mode = \"max\",\n",
    "                                         restore_best_weights = True)\n",
    "\n",
    "classifier.compile(\n",
    "            loss=keras.losses.BinaryCrossentropy(from_logits=False),\n",
    "            optimizer=keras.optimizers.AdamW(1e-6),\n",
    "            metrics = [keras.metrics.AUC()],\n",
    "            jit_compile=True,\n",
    "        )\n",
    "\n",
    "classifier.fit(\n",
    "    x = X,\n",
    "    y = y,\n",
    "    batch_size = batch_size,\n",
    "    epochs=4,\n",
    "    callbacks = [early_stopping],\n",
    "    class_weight = {0:class_weights[0],1:class_weights[1]}\n",
    ")"
   ]
  },
  {
   "cell_type": "markdown",
   "id": "162366a1",
   "metadata": {
    "papermill": {
     "duration": 0.650902,
     "end_time": "2024-01-21T12:11:43.051673",
     "exception": false,
     "start_time": "2024-01-21T12:11:42.400771",
     "status": "completed"
    },
    "tags": []
   },
   "source": [
    "## Evaluation and submission"
   ]
  },
  {
   "cell_type": "code",
   "execution_count": 7,
   "id": "47ac0648",
   "metadata": {
    "execution": {
     "iopub.execute_input": "2024-01-21T12:11:44.482381Z",
     "iopub.status.busy": "2024-01-21T12:11:44.481985Z",
     "iopub.status.idle": "2024-01-21T12:11:48.880334Z",
     "shell.execute_reply": "2024-01-21T12:11:48.879525Z"
    },
    "papermill": {
     "duration": 5.132447,
     "end_time": "2024-01-21T12:11:48.882406",
     "exception": false,
     "start_time": "2024-01-21T12:11:43.749959",
     "status": "completed"
    },
    "tags": []
   },
   "outputs": [
    {
     "name": "stdout",
     "output_type": "stream",
     "text": [
      "1/1 [==============================] - 3s 3s/step\n"
     ]
    }
   ],
   "source": [
    "test_essays = pd.read_csv(\"/kaggle/input/llm-detect-ai-generated-text/test_essays.csv\")\n",
    "test_essays.loc[:,\"text\"] = test_essays.loc[:,\"text\"].map(lambda x : preprocess_text(x))\n",
    "submission_dict  = pd.DataFrame()\n",
    "submission_dict[\"id\"] = test_essays[\"id\"]\n",
    "submission_dict[\"generated\"] = classifier.predict(test_essays[\"text\"])[:,0]\n",
    "\n",
    "\n",
    "submission = pd.DataFrame.from_dict(submission_dict)\n",
    "submission.to_csv(\"/kaggle/working/submission.csv\",index=False)"
   ]
  }
 ],
 "metadata": {
  "kaggle": {
   "accelerator": "gpu",
   "dataSources": [
    {
     "databundleVersionId": 7516023,
     "sourceId": 61542,
     "sourceType": "competition"
    },
    {
     "datasetId": 3960967,
     "sourceId": 6901341,
     "sourceType": "datasetVersion"
    },
    {
     "datasetId": 4005256,
     "sourceId": 6977472,
     "sourceType": "datasetVersion"
    },
    {
     "datasetId": 4210720,
     "sourceId": 7294503,
     "sourceType": "datasetVersion"
    },
    {
     "modelInstanceId": 4689,
     "sourceId": 5916,
     "sourceType": "modelInstanceVersion"
    },
    {
     "modelInstanceId": 4689,
     "sourceId": 6068,
     "sourceType": "modelInstanceVersion"
    }
   ],
   "dockerImageVersionId": 30626,
   "isGpuEnabled": true,
   "isInternetEnabled": false,
   "language": "python",
   "sourceType": "notebook"
  },
  "kernelspec": {
   "display_name": "Python 3",
   "language": "python",
   "name": "python3"
  },
  "language_info": {
   "codemirror_mode": {
    "name": "ipython",
    "version": 3
   },
   "file_extension": ".py",
   "mimetype": "text/x-python",
   "name": "python",
   "nbconvert_exporter": "python",
   "pygments_lexer": "ipython3",
   "version": "3.10.12"
  },
  "papermill": {
   "default_parameters": {},
   "duration": 9384.897877,
   "end_time": "2024-01-21T12:11:53.176931",
   "environment_variables": {},
   "exception": null,
   "input_path": "__notebook__.ipynb",
   "output_path": "__notebook__.ipynb",
   "parameters": {},
   "start_time": "2024-01-21T09:35:28.279054",
   "version": "2.4.0"
  }
 },
 "nbformat": 4,
 "nbformat_minor": 5
}
