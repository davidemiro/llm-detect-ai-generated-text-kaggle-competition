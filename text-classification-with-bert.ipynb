{
 "metadata": {
  "kernelspec": {
   "language": "python",
   "display_name": "Python 3",
   "name": "python3"
  },
  "language_info": {
   "name": "python",
   "version": "3.10.12",
   "mimetype": "text/x-python",
   "codemirror_mode": {
    "name": "ipython",
    "version": 3
   },
   "pygments_lexer": "ipython3",
   "nbconvert_exporter": "python",
   "file_extension": ".py"
  },
  "kaggle": {
   "accelerator": "none",
   "dataSources": [
    {
     "sourceId": 61542,
     "databundleVersionId": 6888007,
     "sourceType": "competition"
    },
    {
     "sourceId": 6977472,
     "sourceType": "datasetVersion",
     "datasetId": 4005256
    },
    {
     "sourceId": 5905,
     "sourceType": "modelInstanceVersion",
     "modelInstanceId": 4678
    },
    {
     "sourceId": 5909,
     "sourceType": "modelInstanceVersion",
     "modelInstanceId": 4682
    },
    {
     "sourceId": 6061,
     "sourceType": "modelInstanceVersion",
     "modelInstanceId": 4682
    }
   ],
   "dockerImageVersionId": 30626,
   "isInternetEnabled": false,
   "language": "python",
   "sourceType": "notebook",
   "isGpuEnabled": false
  }
 },
 "nbformat_minor": 4,
 "nbformat": 4,
 "cells": [
  {
   "cell_type": "markdown",
   "source": [
    "# LLM generation text detection "
   ],
   "metadata": {}
  },
  {
   "cell_type": "code",
   "source": [
    "import numpy as np # linear algebra\n",
    "import pandas as pd # data processing, CSV file I/O (e.g. pd.read_csv)\n",
    "import keras\n",
    "import keras_nlp\n",
    "import re\n",
    "import spacy\n",
    "import time\n",
    "import string\n",
    "\n",
    "\n",
    "train_essays = pd.read_csv(\"/kaggle/input/llm-detect-ai-generated-text/train_essays.csv\")\n",
    "train_prompts = pd.read_csv(\"/kaggle/input/llm-detect-ai-generated-text/train_prompts.csv\")\n",
    "train_daigt = pd.read_csv(\"/kaggle/input/daigt-v2-train-dataset/train_v2_drcat_02.csv\")\n",
    "\n",
    "\n"
   ],
   "metadata": {
    "execution": {
     "iopub.status.busy": "2024-01-15T22:40:50.806838Z",
     "iopub.execute_input": "2024-01-15T22:40:50.807237Z",
     "iopub.status.idle": "2024-01-15T22:40:52.063752Z",
     "shell.execute_reply.started": "2024-01-15T22:40:50.807206Z",
     "shell.execute_reply": "2024-01-15T22:40:52.062452Z"
    },
    "trusted": true
   },
   "execution_count": 9,
   "outputs": []
  },
  {
   "cell_type": "markdown",
   "source": [
    "## Datasets "
   ],
   "metadata": {}
  },
  {
   "cell_type": "code",
   "source": [
    "train_daigt[\"generated\"] = train_daigt[\"label\"]\n",
    "train_essays = train_essays.merge(train_prompts, on='prompt_id', how='inner')\n",
    "\n",
    "train_essays = pd.concat([train_essays,train_daigt])\n",
    "\n",
    "#train_essays.loc[:,[\"prompt_name\",\"generated\"]].value_counts()\n",
    "train_essays = train_essays.sample(frac = 1)\n",
    "\n",
    "train_essays = train_essays.loc[:,[\"text\",\"generated\"]]\n",
    "\n",
    "train_essays = train_essays.iloc[:10]"
   ],
   "metadata": {
    "execution": {
     "iopub.status.busy": "2024-01-15T22:41:08.852522Z",
     "iopub.execute_input": "2024-01-15T22:41:08.855946Z",
     "iopub.status.idle": "2024-01-15T22:41:08.898315Z",
     "shell.execute_reply.started": "2024-01-15T22:41:08.855903Z",
     "shell.execute_reply": "2024-01-15T22:41:08.896694Z"
    },
    "trusted": true
   },
   "execution_count": 10,
   "outputs": []
  },
  {
   "cell_type": "markdown",
   "source": [
    "## Preprocessing"
   ],
   "metadata": {}
  },
  {
   "cell_type": "code",
   "source": [
    "# Load the English NLP model\n",
    "nlp = spacy.load(\"en_core_web_sm\")\n",
    "\n",
    "table = str.maketrans(\"\", \"\", string.punctuation)\n",
    "table[10] = None #\\n\n",
    "table[92] = None #\\\n",
    "\n",
    "\n",
    "#to lower\n",
    "for code in range(26):\n",
    "    table[code + 65] = code +97\n",
    "\n",
    "\n",
    "\n",
    "\n",
    "def preprocess_text(text):\n",
    "    \n",
    "    #characters level preprocessing\n",
    "    #remove \\n and \\, remove puntuactions, to lower case\n",
    "    text = text.translate(table)\n",
    "    \n",
    "    # Tokenization using spaCy\n",
    "    doc = nlp(text)\n",
    "    \n",
    "    # Remove stopwords and lemmization using spaCy's built-in stopword list\n",
    "    tokens = [token.lemma_ for token in doc if not nlp.vocab[token.text].is_stop]\n",
    "    \n",
    "    return \" \".join(tokens)\n",
    "\n",
    "\n",
    "\n",
    "\n",
    "start_time = time.time()\n",
    "train_essays.loc[:,\"text\"] = train_essays.loc[:,\"text\"].map(lambda x : preprocess_text(x))\n",
    "# Convert back to pandas DataFrame (if needed)\n",
    "end_time = time.time()\n",
    "\n",
    "print(end_time - start_time)"
   ],
   "metadata": {
    "execution": {
     "iopub.status.busy": "2024-01-15T22:41:11.351690Z",
     "iopub.execute_input": "2024-01-15T22:41:11.352127Z",
     "iopub.status.idle": "2024-01-15T22:41:13.638584Z",
     "shell.execute_reply.started": "2024-01-15T22:41:11.352091Z",
     "shell.execute_reply": "2024-01-15T22:41:13.637073Z"
    },
    "trusted": true
   },
   "execution_count": 11,
   "outputs": [
    {
     "name": "stdout",
     "text": "1.0530376434326172\n",
     "output_type": "stream"
    }
   ]
  },
  {
   "cell_type": "markdown",
   "source": [
    "## BERT"
   ],
   "metadata": {}
  },
  {
   "cell_type": "code",
   "source": [
    "import tensorflow as tf\n",
    "\n",
    "from sklearn.utils.class_weight import compute_class_weight\n",
    "from sklearn.model_selection import train_test_split\n",
    "import matplotlib.pyplot as plt\n",
    "\n",
    "X = train_essays[\"text\"].values\n",
    "y = train_essays[\"generated\"].values\n",
    "\n",
    "\n",
    "\n",
    "#X_train, X_val, y_train, y_val = train_test_split(X, y, test_size=0.2, stratify=y, random_state=42)\n",
    "\n",
    "# Assuming your labels are 0 and 1\n",
    "class_weights = compute_class_weight('balanced', classes=np.unique(y), y=y)\n",
    "\n",
    "\n",
    "# Backbone\n",
    "backbone = keras_nlp.models.BertBackbone.from_preset('bert_large_en_uncased')\n",
    "\n",
    "\n",
    "# Preprocessor\n",
    "preprocessor = keras_nlp.models.BertPreprocessor.from_preset(\"bert_base_en_uncased\")\n",
    "\n",
    "\n",
    "\n",
    "train_preprocessed = (\n",
    "    imdb_train.map(preprocessor, tf.data.AUTOTUNE).cache().prefetch(tf.data.AUTOTUNE)\n",
    ")\n",
    "test_preprocessed = (\n",
    "    imdb_test.map(preprocessor, tf.data.AUTOTUNE).cache().prefetch(tf.data.AUTOTUNE)\n",
    ")\n",
    "\n",
    "backbone.trainable = False\n",
    "inputs = backbone.input\n",
    "sequence = backbone(inputs)[\"pooled_output\"]\n",
    "\n",
    "outputs = keras.layers.Dense(2)(sequence[:, backbone.cls_token_index, :])\n",
    "x = keras.layers.Dense(hidden_size)(x)\n",
    "x = keras.layers.Dense(hidden_size, activation = 'relu')(x)\n",
    "x = keras.layers.Dropout(dropout_prob)(x)\n",
    "x = keras.layers.Dense(hidden_size, activation='relu'),\n",
    "x = keras.layers.Dense(hidden_size,  activation='relu'),\n",
    "x = keras.layers.Dropout(dropout_prob),\n",
    "x = keras.layers.Dense(hidden_size//8, activation = 'relu'),\n",
    "outputs = keras.layers.Dense(1, activation='sigmoid')\n",
    "model = keras.Model(inputs, outputs)\n",
    "model.compile(\n",
    "    loss=keras.losses.SparseCategoricalCrossentropy(from_logits=True),\n",
    "    optimizer=keras.optimizers.AdamW(5e-5),\n",
    "    metrics=[keras.metrics.SparseCategoricalAccuracy()],\n",
    "    jit_compile=True,\n",
    ")\n",
    "model.summary()\n",
    "model.fit(\n",
    "    imdb_train_preprocessed,\n",
    "    validation_data=imdb_test_preprocessed,\n",
    "    epochs=3,\n",
    ")\n",
    "\n",
    "\n",
    "\n",
    "\n",
    "hidden_size = 512\n",
    "dropout_prob = 0.2\n",
    "classifier_layers = [\n",
    "    keras.layers.Dense(hidden_size),\n",
    "    keras.layers.Dense(hidden_size, activation = 'relu'),\n",
    "    keras.layers.Dropout(dropout_prob),\n",
    "    keras.layers.Dense(hidden_size, activation='relu'),\n",
    "    keras.layers.Dense(hidden_size,  activation='relu'),\n",
    "    keras.layers.Dropout(dropout_prob),\n",
    "    keras.layers.Dense(hidden_size//8, activation = 'relu'),\n",
    "    keras.layers.Dense(1, activation='sigmoid')\n",
    "\n",
    "]\n",
    "\n",
    "backbone.trainable = False\n",
    "\n",
    "inputs = keras.Input(shape=(None,), dtype=tf.string)\n",
    "\n",
    "preprocess_input = preprocessor(inputs)\n",
    "\n",
    "bert_output = backbone(preprocess_input)  # Get the output of the Bert model\n",
    "\n",
    "\n",
    "outputs = classifier_layers(bert_output)  # Add the classification layers\n",
    "model = tf.keras.Model(inputs=inputs, outputs=outputs)\n",
    "\n",
    "\n",
    "\n",
    "\n",
    "\n",
    "\n",
    "\n",
    "\n",
    "    \n"
   ],
   "metadata": {
    "_uuid": "8f2839f25d086af736a60e9eeb907d3b93b6e0e5",
    "_cell_guid": "b1076dfc-b9ad-4769-8c92-a6c4dae69d19",
    "execution": {
     "iopub.status.busy": "2024-01-15T22:41:45.585731Z",
     "iopub.execute_input": "2024-01-15T22:41:45.586155Z",
     "iopub.status.idle": "2024-01-15T22:42:09.651903Z",
     "shell.execute_reply.started": "2024-01-15T22:41:45.586118Z",
     "shell.execute_reply": "2024-01-15T22:42:09.649576Z"
    },
    "trusted": true
   },
   "execution_count": 12,
   "outputs": [
    {
     "name": "stderr",
     "text": "Attaching 'config.json' from model 'keras/bert/keras/bert_large_en_uncased/1' to your Kaggle notebook...\nAttaching 'config.json' from model 'keras/bert/keras/bert_large_en_uncased/1' to your Kaggle notebook...\nAttaching 'model.weights.h5' from model 'keras/bert/keras/bert_large_en_uncased/1' to your Kaggle notebook...\nAttaching 'tokenizer.json' from model 'keras/bert/keras/bert_base_en_uncased/1' to your Kaggle notebook...\nAttaching 'tokenizer.json' from model 'keras/bert/keras/bert_base_en_uncased/1' to your Kaggle notebook...\nAttaching 'assets/tokenizer/vocabulary.txt' from model 'keras/bert/keras/bert_base_en_uncased/1' to your Kaggle notebook...\n",
     "output_type": "stream"
    },
    {
     "traceback": [
      "\u001B[0;31m---------------------------------------------------------------------------\u001B[0m",
      "\u001B[0;31mAttributeError\u001B[0m                            Traceback (most recent call last)",
      "Cell \u001B[0;32mIn[12], line 48\u001B[0m\n\u001B[1;32m     44\u001B[0m backbone\u001B[38;5;241m.\u001B[39mtrainable \u001B[38;5;241m=\u001B[39m \u001B[38;5;28;01mFalse\u001B[39;00m\n\u001B[1;32m     46\u001B[0m inputs \u001B[38;5;241m=\u001B[39m keras\u001B[38;5;241m.\u001B[39mInput(shape\u001B[38;5;241m=\u001B[39m(\u001B[38;5;28;01mNone\u001B[39;00m,), dtype\u001B[38;5;241m=\u001B[39mtf\u001B[38;5;241m.\u001B[39mstring)\n\u001B[0;32m---> 48\u001B[0m preprocess_input \u001B[38;5;241m=\u001B[39m \u001B[43mpreprocessor\u001B[49m\u001B[43m(\u001B[49m\u001B[43minputs\u001B[49m\u001B[43m)\u001B[49m\n\u001B[1;32m     50\u001B[0m bert_output \u001B[38;5;241m=\u001B[39m backbone(preprocess_input)  \u001B[38;5;66;03m# Get the output of the Bert model\u001B[39;00m\n\u001B[1;32m     53\u001B[0m outputs \u001B[38;5;241m=\u001B[39m classifier_layers(bert_output)  \u001B[38;5;66;03m# Add the classification layers\u001B[39;00m\n",
      "File \u001B[0;32m/opt/conda/lib/python3.10/site-packages/keras_nlp/src/layers/preprocessing/preprocessing_layer.py:43\u001B[0m, in \u001B[0;36mPreprocessingLayer.__call__\u001B[0;34m(self, *args, **kwargs)\u001B[0m\n\u001B[1;32m     39\u001B[0m \u001B[38;5;28;01mdef\u001B[39;00m \u001B[38;5;21m__call__\u001B[39m(\u001B[38;5;28mself\u001B[39m, \u001B[38;5;241m*\u001B[39margs, \u001B[38;5;241m*\u001B[39m\u001B[38;5;241m*\u001B[39mkwargs):\n\u001B[1;32m     40\u001B[0m     \u001B[38;5;66;03m# Always place on CPU for preprocessing, to avoid expensive back and\u001B[39;00m\n\u001B[1;32m     41\u001B[0m     \u001B[38;5;66;03m# forth copies to GPU before the trainable model.\u001B[39;00m\n\u001B[1;32m     42\u001B[0m     \u001B[38;5;28;01mwith\u001B[39;00m tf\u001B[38;5;241m.\u001B[39mdevice(\u001B[38;5;124m\"\u001B[39m\u001B[38;5;124mcpu\u001B[39m\u001B[38;5;124m\"\u001B[39m):\n\u001B[0;32m---> 43\u001B[0m         outputs \u001B[38;5;241m=\u001B[39m \u001B[38;5;28;43msuper\u001B[39;49m\u001B[43m(\u001B[49m\u001B[43m)\u001B[49m\u001B[38;5;241;43m.\u001B[39;49m\u001B[38;5;21;43m__call__\u001B[39;49m\u001B[43m(\u001B[49m\u001B[38;5;241;43m*\u001B[39;49m\u001B[43margs\u001B[49m\u001B[43m,\u001B[49m\u001B[43m \u001B[49m\u001B[38;5;241;43m*\u001B[39;49m\u001B[38;5;241;43m*\u001B[39;49m\u001B[43mkwargs\u001B[49m\u001B[43m)\u001B[49m\n\u001B[1;32m     45\u001B[0m         \u001B[38;5;66;03m# Jax and Torch lack native string and ragged types.\u001B[39;00m\n\u001B[1;32m     46\u001B[0m         \u001B[38;5;66;03m# If we are running on those backends and not running with tf.data\u001B[39;00m\n\u001B[1;32m     47\u001B[0m         \u001B[38;5;66;03m# (we are outside a tf.function), we covert all ragged and string\u001B[39;00m\n\u001B[1;32m     48\u001B[0m         \u001B[38;5;66;03m# tensor to pythonic types.\u001B[39;00m\n\u001B[1;32m     49\u001B[0m         is_tf_backend \u001B[38;5;241m=\u001B[39m config\u001B[38;5;241m.\u001B[39mbackend() \u001B[38;5;241m==\u001B[39m \u001B[38;5;124m\"\u001B[39m\u001B[38;5;124mtensorflow\u001B[39m\u001B[38;5;124m\"\u001B[39m\n",
      "File \u001B[0;32m/opt/conda/lib/python3.10/site-packages/keras/src/utils/traceback_utils.py:70\u001B[0m, in \u001B[0;36mfilter_traceback.<locals>.error_handler\u001B[0;34m(*args, **kwargs)\u001B[0m\n\u001B[1;32m     67\u001B[0m     filtered_tb \u001B[38;5;241m=\u001B[39m _process_traceback_frames(e\u001B[38;5;241m.\u001B[39m__traceback__)\n\u001B[1;32m     68\u001B[0m     \u001B[38;5;66;03m# To get the full stack trace, call:\u001B[39;00m\n\u001B[1;32m     69\u001B[0m     \u001B[38;5;66;03m# `tf.debugging.disable_traceback_filtering()`\u001B[39;00m\n\u001B[0;32m---> 70\u001B[0m     \u001B[38;5;28;01mraise\u001B[39;00m e\u001B[38;5;241m.\u001B[39mwith_traceback(filtered_tb) \u001B[38;5;28;01mfrom\u001B[39;00m \u001B[38;5;28;01mNone\u001B[39;00m\n\u001B[1;32m     71\u001B[0m \u001B[38;5;28;01mfinally\u001B[39;00m:\n\u001B[1;32m     72\u001B[0m     \u001B[38;5;28;01mdel\u001B[39;00m filtered_tb\n",
      "File \u001B[0;32m/tmp/__autograph_generated_file7h45mfwk.py:12\u001B[0m, in \u001B[0;36mouter_factory.<locals>.inner_factory.<locals>.tf__call\u001B[0;34m(self, x, y, sample_weight)\u001B[0m\n\u001B[1;32m     10\u001B[0m x \u001B[38;5;241m=\u001B[39m ag__\u001B[38;5;241m.\u001B[39mconverted_call(ag__\u001B[38;5;241m.\u001B[39mld(convert_inputs_to_list_of_tensor_segments), (ag__\u001B[38;5;241m.\u001B[39mld(x),), \u001B[38;5;28;01mNone\u001B[39;00m, fscope)\n\u001B[1;32m     11\u001B[0m x \u001B[38;5;241m=\u001B[39m [ag__\u001B[38;5;241m.\u001B[39mconverted_call(ag__\u001B[38;5;241m.\u001B[39mld(\u001B[38;5;28mself\u001B[39m)\u001B[38;5;241m.\u001B[39mtokenizer, (ag__\u001B[38;5;241m.\u001B[39mld(segment),), \u001B[38;5;28;01mNone\u001B[39;00m, fscope) \u001B[38;5;28;01mfor\u001B[39;00m segment \u001B[38;5;129;01min\u001B[39;00m ag__\u001B[38;5;241m.\u001B[39mld(x)]\n\u001B[0;32m---> 12\u001B[0m (token_ids, segment_ids) \u001B[38;5;241m=\u001B[39m \u001B[43mag__\u001B[49m\u001B[38;5;241;43m.\u001B[39;49m\u001B[43mconverted_call\u001B[49m\u001B[43m(\u001B[49m\u001B[43mag__\u001B[49m\u001B[38;5;241;43m.\u001B[39;49m\u001B[43mld\u001B[49m\u001B[43m(\u001B[49m\u001B[38;5;28;43mself\u001B[39;49m\u001B[43m)\u001B[49m\u001B[38;5;241;43m.\u001B[39;49m\u001B[43mpacker\u001B[49m\u001B[43m,\u001B[49m\u001B[43m \u001B[49m\u001B[43m(\u001B[49m\u001B[43mag__\u001B[49m\u001B[38;5;241;43m.\u001B[39;49m\u001B[43mld\u001B[49m\u001B[43m(\u001B[49m\u001B[43mx\u001B[49m\u001B[43m)\u001B[49m\u001B[43m,\u001B[49m\u001B[43m)\u001B[49m\u001B[43m,\u001B[49m\u001B[43m \u001B[49m\u001B[38;5;28;43;01mNone\u001B[39;49;00m\u001B[43m,\u001B[49m\u001B[43m \u001B[49m\u001B[43mfscope\u001B[49m\u001B[43m)\u001B[49m\n\u001B[1;32m     13\u001B[0m x \u001B[38;5;241m=\u001B[39m {\u001B[38;5;124m'\u001B[39m\u001B[38;5;124mtoken_ids\u001B[39m\u001B[38;5;124m'\u001B[39m: ag__\u001B[38;5;241m.\u001B[39mld(token_ids), \u001B[38;5;124m'\u001B[39m\u001B[38;5;124msegment_ids\u001B[39m\u001B[38;5;124m'\u001B[39m: ag__\u001B[38;5;241m.\u001B[39mld(segment_ids), \u001B[38;5;124m'\u001B[39m\u001B[38;5;124mpadding_mask\u001B[39m\u001B[38;5;124m'\u001B[39m: ag__\u001B[38;5;241m.\u001B[39mld(token_ids) \u001B[38;5;241m!=\u001B[39m ag__\u001B[38;5;241m.\u001B[39mld(\u001B[38;5;28mself\u001B[39m)\u001B[38;5;241m.\u001B[39mtokenizer\u001B[38;5;241m.\u001B[39mpad_token_id}\n\u001B[1;32m     14\u001B[0m \u001B[38;5;28;01mtry\u001B[39;00m:\n",
      "File \u001B[0;32m/tmp/__autograph_generated_filegh_qu165.py:12\u001B[0m, in \u001B[0;36mouter_factory.<locals>.inner_factory.<locals>.tf____call__\u001B[0;34m(self, *args, **kwargs)\u001B[0m\n\u001B[1;32m     10\u001B[0m retval_ \u001B[38;5;241m=\u001B[39m ag__\u001B[38;5;241m.\u001B[39mUndefinedReturnValue()\n\u001B[1;32m     11\u001B[0m \u001B[38;5;28;01mwith\u001B[39;00m ag__\u001B[38;5;241m.\u001B[39mld(tf)\u001B[38;5;241m.\u001B[39mdevice(\u001B[38;5;124m'\u001B[39m\u001B[38;5;124mcpu\u001B[39m\u001B[38;5;124m'\u001B[39m):\n\u001B[0;32m---> 12\u001B[0m     outputs \u001B[38;5;241m=\u001B[39m \u001B[43mag__\u001B[49m\u001B[38;5;241;43m.\u001B[39;49m\u001B[43mconverted_call\u001B[49m\u001B[43m(\u001B[49m\u001B[43mag__\u001B[49m\u001B[38;5;241;43m.\u001B[39;49m\u001B[43mconverted_call\u001B[49m\u001B[43m(\u001B[49m\u001B[43mag__\u001B[49m\u001B[38;5;241;43m.\u001B[39;49m\u001B[43mld\u001B[49m\u001B[43m(\u001B[49m\u001B[38;5;28;43msuper\u001B[39;49m\u001B[43m)\u001B[49m\u001B[43m,\u001B[49m\u001B[43m \u001B[49m\u001B[43m(\u001B[49m\u001B[43m)\u001B[49m\u001B[43m,\u001B[49m\u001B[43m \u001B[49m\u001B[38;5;28;43;01mNone\u001B[39;49;00m\u001B[43m,\u001B[49m\u001B[43m \u001B[49m\u001B[43mfscope\u001B[49m\u001B[43m)\u001B[49m\u001B[38;5;241;43m.\u001B[39;49m\u001B[38;5;21;43m__call__\u001B[39;49m\u001B[43m,\u001B[49m\u001B[43m \u001B[49m\u001B[38;5;28;43mtuple\u001B[39;49m\u001B[43m(\u001B[49m\u001B[43mag__\u001B[49m\u001B[38;5;241;43m.\u001B[39;49m\u001B[43mld\u001B[49m\u001B[43m(\u001B[49m\u001B[43margs\u001B[49m\u001B[43m)\u001B[49m\u001B[43m)\u001B[49m\u001B[43m,\u001B[49m\u001B[43m \u001B[49m\u001B[38;5;28;43mdict\u001B[39;49m\u001B[43m(\u001B[49m\u001B[38;5;241;43m*\u001B[39;49m\u001B[38;5;241;43m*\u001B[39;49m\u001B[43mag__\u001B[49m\u001B[38;5;241;43m.\u001B[39;49m\u001B[43mld\u001B[49m\u001B[43m(\u001B[49m\u001B[43mkwargs\u001B[49m\u001B[43m)\u001B[49m\u001B[43m)\u001B[49m\u001B[43m,\u001B[49m\u001B[43m \u001B[49m\u001B[43mfscope\u001B[49m\u001B[43m)\u001B[49m\n\u001B[1;32m     13\u001B[0m     is_tf_backend \u001B[38;5;241m=\u001B[39m ag__\u001B[38;5;241m.\u001B[39mconverted_call(ag__\u001B[38;5;241m.\u001B[39mld(config)\u001B[38;5;241m.\u001B[39mbackend, (), \u001B[38;5;28;01mNone\u001B[39;00m, fscope) \u001B[38;5;241m==\u001B[39m \u001B[38;5;124m'\u001B[39m\u001B[38;5;124mtensorflow\u001B[39m\u001B[38;5;124m'\u001B[39m\n\u001B[1;32m     14\u001B[0m     is_in_tf_graph \u001B[38;5;241m=\u001B[39m ag__\u001B[38;5;241m.\u001B[39mnot_(ag__\u001B[38;5;241m.\u001B[39mconverted_call(ag__\u001B[38;5;241m.\u001B[39mld(tf)\u001B[38;5;241m.\u001B[39mexecuting_eagerly, (), \u001B[38;5;28;01mNone\u001B[39;00m, fscope))\n",
      "File \u001B[0;32m/tmp/__autograph_generated_filevu4quav4.py:10\u001B[0m, in \u001B[0;36mouter_factory.<locals>.inner_factory.<locals>.tf__call\u001B[0;34m(self, inputs)\u001B[0m\n\u001B[1;32m      8\u001B[0m do_return \u001B[38;5;241m=\u001B[39m \u001B[38;5;28;01mFalse\u001B[39;00m\n\u001B[1;32m      9\u001B[0m retval_ \u001B[38;5;241m=\u001B[39m ag__\u001B[38;5;241m.\u001B[39mUndefinedReturnValue()\n\u001B[0;32m---> 10\u001B[0m (inputs, unbatched) \u001B[38;5;241m=\u001B[39m \u001B[43mag__\u001B[49m\u001B[38;5;241;43m.\u001B[39;49m\u001B[43mconverted_call\u001B[49m\u001B[43m(\u001B[49m\u001B[43mag__\u001B[49m\u001B[38;5;241;43m.\u001B[39;49m\u001B[43mld\u001B[49m\u001B[43m(\u001B[49m\u001B[38;5;28;43mself\u001B[39;49m\u001B[43m)\u001B[49m\u001B[38;5;241;43m.\u001B[39;49m\u001B[43m_sanitize_inputs\u001B[49m\u001B[43m,\u001B[49m\u001B[43m \u001B[49m\u001B[43m(\u001B[49m\u001B[43mag__\u001B[49m\u001B[38;5;241;43m.\u001B[39;49m\u001B[43mld\u001B[49m\u001B[43m(\u001B[49m\u001B[43minputs\u001B[49m\u001B[43m)\u001B[49m\u001B[43m,\u001B[49m\u001B[43m)\u001B[49m\u001B[43m,\u001B[49m\u001B[43m \u001B[49m\u001B[38;5;28;43;01mNone\u001B[39;49;00m\u001B[43m,\u001B[49m\u001B[43m \u001B[49m\u001B[43mfscope\u001B[49m\u001B[43m)\u001B[49m\n\u001B[1;32m     11\u001B[0m segments \u001B[38;5;241m=\u001B[39m ag__\u001B[38;5;241m.\u001B[39mconverted_call(ag__\u001B[38;5;241m.\u001B[39mld(\u001B[38;5;28mself\u001B[39m)\u001B[38;5;241m.\u001B[39m_trim_inputs, (ag__\u001B[38;5;241m.\u001B[39mld(inputs),), \u001B[38;5;28;01mNone\u001B[39;00m, fscope)\n\u001B[1;32m     12\u001B[0m (token_ids, segment_ids) \u001B[38;5;241m=\u001B[39m ag__\u001B[38;5;241m.\u001B[39mconverted_call(ag__\u001B[38;5;241m.\u001B[39mld(\u001B[38;5;28mself\u001B[39m)\u001B[38;5;241m.\u001B[39m_combine_inputs, (ag__\u001B[38;5;241m.\u001B[39mld(segments),), \u001B[38;5;28;01mNone\u001B[39;00m, fscope)\n",
      "File \u001B[0;32m/tmp/__autograph_generated_filegr8zcj9s.py:40\u001B[0m, in \u001B[0;36mouter_factory.<locals>.inner_factory.<locals>.tf___sanitize_inputs\u001B[0;34m(self, inputs)\u001B[0m\n\u001B[1;32m     38\u001B[0m     \u001B[38;5;28;01mpass\u001B[39;00m\n\u001B[1;32m     39\u001B[0m ag__\u001B[38;5;241m.\u001B[39mif_stmt(ag__\u001B[38;5;241m.\u001B[39mnot_(ag__\u001B[38;5;241m.\u001B[39mld(inputs)), if_body_1, else_body_1, get_state_1, set_state_1, (), \u001B[38;5;241m0\u001B[39m)\n\u001B[0;32m---> 40\u001B[0m (inputs, unbatched_list, _) \u001B[38;5;241m=\u001B[39m ag__\u001B[38;5;241m.\u001B[39mconverted_call(ag__\u001B[38;5;241m.\u001B[39mld(\u001B[38;5;28mlist\u001B[39m), (ag__\u001B[38;5;241m.\u001B[39mconverted_call(ag__\u001B[38;5;241m.\u001B[39mld(\u001B[38;5;28mzip\u001B[39m), \u001B[38;5;28;43mtuple\u001B[39;49m\u001B[43m(\u001B[49m\u001B[43m(\u001B[49m\u001B[43mag__\u001B[49m\u001B[38;5;241;43m.\u001B[39;49m\u001B[43mconverted_call\u001B[49m\u001B[43m(\u001B[49m\u001B[43mag__\u001B[49m\u001B[38;5;241;43m.\u001B[39;49m\u001B[43mld\u001B[49m\u001B[43m(\u001B[49m\u001B[43mconvert_to_ragged_batch\u001B[49m\u001B[43m)\u001B[49m\u001B[43m,\u001B[49m\u001B[43m \u001B[49m\u001B[43m(\u001B[49m\u001B[43mag__\u001B[49m\u001B[38;5;241;43m.\u001B[39;49m\u001B[43mld\u001B[49m\u001B[43m(\u001B[49m\u001B[43mx\u001B[49m\u001B[43m)\u001B[49m\u001B[43m,\u001B[49m\u001B[43m)\u001B[49m\u001B[43m,\u001B[49m\u001B[43m \u001B[49m\u001B[38;5;28;43;01mNone\u001B[39;49;00m\u001B[43m,\u001B[49m\u001B[43m \u001B[49m\u001B[43mfscope\u001B[49m\u001B[43m)\u001B[49m\u001B[43m \u001B[49m\u001B[38;5;28;43;01mfor\u001B[39;49;00m\u001B[43m \u001B[49m\u001B[43mx\u001B[49m\u001B[43m \u001B[49m\u001B[38;5;129;43;01min\u001B[39;49;00m\u001B[43m \u001B[49m\u001B[43mag__\u001B[49m\u001B[38;5;241;43m.\u001B[39;49m\u001B[43mld\u001B[49m\u001B[43m(\u001B[49m\u001B[43minputs\u001B[49m\u001B[43m)\u001B[49m\u001B[43m)\u001B[49m\u001B[43m)\u001B[49m, \u001B[38;5;28;01mNone\u001B[39;00m, fscope),), \u001B[38;5;28;01mNone\u001B[39;00m, fscope)\n\u001B[1;32m     42\u001B[0m \u001B[38;5;28;01mdef\u001B[39;00m \u001B[38;5;21mget_state_2\u001B[39m():\n\u001B[1;32m     43\u001B[0m     \u001B[38;5;28;01mreturn\u001B[39;00m ()\n",
      "File \u001B[0;32m/tmp/__autograph_generated_filegr8zcj9s.py:40\u001B[0m, in \u001B[0;36m<genexpr>\u001B[0;34m(.0)\u001B[0m\n\u001B[1;32m     38\u001B[0m     \u001B[38;5;28;01mpass\u001B[39;00m\n\u001B[1;32m     39\u001B[0m ag__\u001B[38;5;241m.\u001B[39mif_stmt(ag__\u001B[38;5;241m.\u001B[39mnot_(ag__\u001B[38;5;241m.\u001B[39mld(inputs)), if_body_1, else_body_1, get_state_1, set_state_1, (), \u001B[38;5;241m0\u001B[39m)\n\u001B[0;32m---> 40\u001B[0m (inputs, unbatched_list, _) \u001B[38;5;241m=\u001B[39m ag__\u001B[38;5;241m.\u001B[39mconverted_call(ag__\u001B[38;5;241m.\u001B[39mld(\u001B[38;5;28mlist\u001B[39m), (ag__\u001B[38;5;241m.\u001B[39mconverted_call(ag__\u001B[38;5;241m.\u001B[39mld(\u001B[38;5;28mzip\u001B[39m), \u001B[38;5;28mtuple\u001B[39m((\u001B[43mag__\u001B[49m\u001B[38;5;241;43m.\u001B[39;49m\u001B[43mconverted_call\u001B[49m\u001B[43m(\u001B[49m\u001B[43mag__\u001B[49m\u001B[38;5;241;43m.\u001B[39;49m\u001B[43mld\u001B[49m\u001B[43m(\u001B[49m\u001B[43mconvert_to_ragged_batch\u001B[49m\u001B[43m)\u001B[49m\u001B[43m,\u001B[49m\u001B[43m \u001B[49m\u001B[43m(\u001B[49m\u001B[43mag__\u001B[49m\u001B[38;5;241;43m.\u001B[39;49m\u001B[43mld\u001B[49m\u001B[43m(\u001B[49m\u001B[43mx\u001B[49m\u001B[43m)\u001B[49m\u001B[43m,\u001B[49m\u001B[43m)\u001B[49m\u001B[43m,\u001B[49m\u001B[43m \u001B[49m\u001B[38;5;28;43;01mNone\u001B[39;49;00m\u001B[43m,\u001B[49m\u001B[43m \u001B[49m\u001B[43mfscope\u001B[49m\u001B[43m)\u001B[49m \u001B[38;5;28;01mfor\u001B[39;00m x \u001B[38;5;129;01min\u001B[39;00m ag__\u001B[38;5;241m.\u001B[39mld(inputs))), \u001B[38;5;28;01mNone\u001B[39;00m, fscope),), \u001B[38;5;28;01mNone\u001B[39;00m, fscope)\n\u001B[1;32m     42\u001B[0m \u001B[38;5;28;01mdef\u001B[39;00m \u001B[38;5;21mget_state_2\u001B[39m():\n\u001B[1;32m     43\u001B[0m     \u001B[38;5;28;01mreturn\u001B[39;00m ()\n",
      "File \u001B[0;32m/tmp/__autograph_generated_file97xhxpts.py:124\u001B[0m, in \u001B[0;36mouter_factory.<locals>.inner_factory.<locals>.tf__convert_to_ragged_batch\u001B[0;34m(inputs)\u001B[0m\n\u001B[1;32m    122\u001B[0m \u001B[38;5;28;01mdef\u001B[39;00m \u001B[38;5;21melse_body_5\u001B[39m():\n\u001B[1;32m    123\u001B[0m     \u001B[38;5;28;01mpass\u001B[39;00m\n\u001B[0;32m--> 124\u001B[0m \u001B[43mag__\u001B[49m\u001B[38;5;241;43m.\u001B[39;49m\u001B[43mif_stmt\u001B[49m\u001B[43m(\u001B[49m\u001B[43mag__\u001B[49m\u001B[38;5;241;43m.\u001B[39;49m\u001B[43mor_\u001B[49m\u001B[43m(\u001B[49m\u001B[38;5;28;43;01mlambda\u001B[39;49;00m\u001B[43m \u001B[49m\u001B[43m:\u001B[49m\u001B[43m \u001B[49m\u001B[43mag__\u001B[49m\u001B[38;5;241;43m.\u001B[39;49m\u001B[43mld\u001B[49m\u001B[43m(\u001B[49m\u001B[43minputs\u001B[49m\u001B[43m)\u001B[49m\u001B[38;5;241;43m.\u001B[39;49m\u001B[43mshape\u001B[49m\u001B[38;5;241;43m.\u001B[39;49m\u001B[43mrank\u001B[49m\u001B[43m \u001B[49m\u001B[38;5;241;43m<\u001B[39;49m\u001B[43m \u001B[49m\u001B[38;5;241;43m1\u001B[39;49m\u001B[43m,\u001B[49m\u001B[43m \u001B[49m\u001B[38;5;28;43;01mlambda\u001B[39;49;00m\u001B[43m \u001B[49m\u001B[43m:\u001B[49m\u001B[43m \u001B[49m\u001B[43mag__\u001B[49m\u001B[38;5;241;43m.\u001B[39;49m\u001B[43mld\u001B[49m\u001B[43m(\u001B[49m\u001B[43minputs\u001B[49m\u001B[43m)\u001B[49m\u001B[38;5;241;43m.\u001B[39;49m\u001B[43mshape\u001B[49m\u001B[38;5;241;43m.\u001B[39;49m\u001B[43mrank\u001B[49m\u001B[43m \u001B[49m\u001B[38;5;241;43m>\u001B[39;49m\u001B[43m \u001B[49m\u001B[38;5;241;43m2\u001B[39;49m\u001B[43m)\u001B[49m\u001B[43m,\u001B[49m\u001B[43m \u001B[49m\u001B[43mif_body_5\u001B[49m\u001B[43m,\u001B[49m\u001B[43m \u001B[49m\u001B[43melse_body_5\u001B[49m\u001B[43m,\u001B[49m\u001B[43m \u001B[49m\u001B[43mget_state_5\u001B[49m\u001B[43m,\u001B[49m\u001B[43m \u001B[49m\u001B[43mset_state_5\u001B[49m\u001B[43m,\u001B[49m\u001B[43m \u001B[49m\u001B[43m(\u001B[49m\u001B[43m)\u001B[49m\u001B[43m,\u001B[49m\u001B[43m \u001B[49m\u001B[38;5;241;43m0\u001B[39;49m\u001B[43m)\u001B[49m\n\u001B[1;32m    125\u001B[0m unbatched \u001B[38;5;241m=\u001B[39m ag__\u001B[38;5;241m.\u001B[39mld(inputs)\u001B[38;5;241m.\u001B[39mshape\u001B[38;5;241m.\u001B[39mrank \u001B[38;5;241m==\u001B[39m \u001B[38;5;241m1\u001B[39m\n\u001B[1;32m    126\u001B[0m rectangular \u001B[38;5;241m=\u001B[39m ag__\u001B[38;5;241m.\u001B[39mor_(\u001B[38;5;28;01mlambda\u001B[39;00m : ag__\u001B[38;5;241m.\u001B[39mld(rectangular), \u001B[38;5;28;01mlambda\u001B[39;00m : ag__\u001B[38;5;241m.\u001B[39mld(unbatched))\n",
      "File \u001B[0;32m/tmp/__autograph_generated_file97xhxpts.py:120\u001B[0m, in \u001B[0;36mouter_factory.<locals>.inner_factory.<locals>.tf__convert_to_ragged_batch.<locals>.if_body_5\u001B[0;34m()\u001B[0m\n\u001B[1;32m    119\u001B[0m \u001B[38;5;28;01mdef\u001B[39;00m \u001B[38;5;21mif_body_5\u001B[39m():\n\u001B[0;32m--> 120\u001B[0m     \u001B[38;5;28;01mraise\u001B[39;00m ag__\u001B[38;5;241m.\u001B[39mconverted_call(ag__\u001B[38;5;241m.\u001B[39mld(\u001B[38;5;167;01mValueError\u001B[39;00m), (\u001B[38;5;124mf\u001B[39m\u001B[38;5;124m'\u001B[39m\u001B[38;5;124mTokenized tensor input should be rank 1 (unbatched) or rank 2 (batched). Received: `inputs.shape=\u001B[39m\u001B[38;5;132;01m{\u001B[39;00m\u001B[43mag__\u001B[49m\u001B[38;5;241;43m.\u001B[39;49m\u001B[43mld\u001B[49m\u001B[43m(\u001B[49m\u001B[38;5;28;43minput\u001B[39;49m\u001B[43m)\u001B[49m\u001B[38;5;241;43m.\u001B[39;49m\u001B[43mshape\u001B[49m\u001B[38;5;132;01m}\u001B[39;00m\u001B[38;5;124m`\u001B[39m\u001B[38;5;124m'\u001B[39m,), \u001B[38;5;28;01mNone\u001B[39;00m, fscope)\n",
      "\u001B[0;31mAttributeError\u001B[0m: Exception encountered when calling layer \"bert_preprocessor_1\" (type BertPreprocessor).\n\nin user code:\n\n    File \"/opt/conda/lib/python3.10/site-packages/keras_nlp/src/models/bert/bert_preprocessor.py\", line 161, in call  *\n        token_ids, segment_ids = self.packer(x)\n    File \"/opt/conda/lib/python3.10/site-packages/keras_nlp/src/layers/preprocessing/preprocessing_layer.py\", line 43, in __call__  *\n        outputs = super().__call__(*args, **kwargs)\n    File \"/opt/conda/lib/python3.10/site-packages/keras/src/utils/traceback_utils.py\", line 70, in error_handler  **\n        raise e.with_traceback(filtered_tb) from None\n    File \"/tmp/__autograph_generated_filevu4quav4.py\", line 10, in tf__call\n        (inputs, unbatched) = ag__.converted_call(ag__.ld(self)._sanitize_inputs, (ag__.ld(inputs),), None, fscope)\n    File \"/tmp/__autograph_generated_filegr8zcj9s.py\", line 40, in tf___sanitize_inputs\n        (inputs, unbatched_list, _) = ag__.converted_call(ag__.ld(list), (ag__.converted_call(ag__.ld(zip), tuple((ag__.converted_call(ag__.ld(convert_to_ragged_batch), (ag__.ld(x),), None, fscope) for x in ag__.ld(inputs))), None, fscope),), None, fscope)\n    File \"/tmp/__autograph_generated_filegr8zcj9s.py\", line 40, in <genexpr>\n        (inputs, unbatched_list, _) = ag__.converted_call(ag__.ld(list), (ag__.converted_call(ag__.ld(zip), tuple((ag__.converted_call(ag__.ld(convert_to_ragged_batch), (ag__.ld(x),), None, fscope) for x in ag__.ld(inputs))), None, fscope),), None, fscope)\n    File \"/tmp/__autograph_generated_file97xhxpts.py\", line 124, in tf__convert_to_ragged_batch\n        ag__.if_stmt(ag__.or_(lambda : ag__.ld(inputs).shape.rank < 1, lambda : ag__.ld(inputs).shape.rank > 2), if_body_5, else_body_5, get_state_5, set_state_5, (), 0)\n    File \"/tmp/__autograph_generated_file97xhxpts.py\", line 120, in if_body_5\n        raise ag__.converted_call(ag__.ld(ValueError), (f'Tokenized tensor input should be rank 1 (unbatched) or rank 2 (batched). Received: `inputs.shape={ag__.ld(input).shape}`',), None, fscope)\n\n    AttributeError: Exception encountered when calling layer 'multi_segment_packer' (type MultiSegmentPacker).\n    \n    in user code:\n    \n        File \"/opt/conda/lib/python3.10/site-packages/keras_nlp/src/layers/preprocessing/multi_segment_packer.py\", line 281, in call  *\n            inputs, unbatched = self._sanitize_inputs(inputs)\n        File \"/opt/conda/lib/python3.10/site-packages/keras_nlp/src/layers/preprocessing/multi_segment_packer.py\", line 206, in _sanitize_inputs  *\n            inputs, unbatched_list, _ = list(\n        File \"/opt/conda/lib/python3.10/site-packages/keras_nlp/src/utils/tensor_utils.py\", line 114, in convert_to_ragged_batch  *\n            raise ValueError(\n    \n        AttributeError: 'function' object has no attribute 'shape'\n    \n    \n    Call arguments received by layer 'multi_segment_packer' (type MultiSegmentPacker):\n      • inputs=['tf.RaggedTensor(values=tf.RaggedTensor(values=Tensor(\"bert_preprocessor_1/bert_tokenizer/FastWordpieceTokenizeWithOffsets/FastWordpieceTokenizeWithOffsets/Cast:0\", shape=(None,), dtype=int32, device=/device:CPU:*), row_splits=Tensor(\"bert_preprocessor_1/bert_tokenizer/RaggedFromRowSplits_3/control_dependency:0\", shape=(None,), dtype=int64, device=/device:CPU:*)), row_splits=Tensor(\"bert_preprocessor_1/bert_tokenizer/RaggedFromUniformRowLength/control_dependency:0\", shape=(None,), dtype=int64, device=/device:CPU:*))']\n\n\nCall arguments received by layer \"bert_preprocessor_1\" (type BertPreprocessor):\n  • x=tf.Tensor(shape=(None, None), dtype=string)\n  • y=None\n  • sample_weight=None"
     ],
     "ename": "AttributeError",
     "evalue": "Exception encountered when calling layer \"bert_preprocessor_1\" (type BertPreprocessor).\n\nin user code:\n\n    File \"/opt/conda/lib/python3.10/site-packages/keras_nlp/src/models/bert/bert_preprocessor.py\", line 161, in call  *\n        token_ids, segment_ids = self.packer(x)\n    File \"/opt/conda/lib/python3.10/site-packages/keras_nlp/src/layers/preprocessing/preprocessing_layer.py\", line 43, in __call__  *\n        outputs = super().__call__(*args, **kwargs)\n    File \"/opt/conda/lib/python3.10/site-packages/keras/src/utils/traceback_utils.py\", line 70, in error_handler  **\n        raise e.with_traceback(filtered_tb) from None\n    File \"/tmp/__autograph_generated_filevu4quav4.py\", line 10, in tf__call\n        (inputs, unbatched) = ag__.converted_call(ag__.ld(self)._sanitize_inputs, (ag__.ld(inputs),), None, fscope)\n    File \"/tmp/__autograph_generated_filegr8zcj9s.py\", line 40, in tf___sanitize_inputs\n        (inputs, unbatched_list, _) = ag__.converted_call(ag__.ld(list), (ag__.converted_call(ag__.ld(zip), tuple((ag__.converted_call(ag__.ld(convert_to_ragged_batch), (ag__.ld(x),), None, fscope) for x in ag__.ld(inputs))), None, fscope),), None, fscope)\n    File \"/tmp/__autograph_generated_filegr8zcj9s.py\", line 40, in <genexpr>\n        (inputs, unbatched_list, _) = ag__.converted_call(ag__.ld(list), (ag__.converted_call(ag__.ld(zip), tuple((ag__.converted_call(ag__.ld(convert_to_ragged_batch), (ag__.ld(x),), None, fscope) for x in ag__.ld(inputs))), None, fscope),), None, fscope)\n    File \"/tmp/__autograph_generated_file97xhxpts.py\", line 124, in tf__convert_to_ragged_batch\n        ag__.if_stmt(ag__.or_(lambda : ag__.ld(inputs).shape.rank < 1, lambda : ag__.ld(inputs).shape.rank > 2), if_body_5, else_body_5, get_state_5, set_state_5, (), 0)\n    File \"/tmp/__autograph_generated_file97xhxpts.py\", line 120, in if_body_5\n        raise ag__.converted_call(ag__.ld(ValueError), (f'Tokenized tensor input should be rank 1 (unbatched) or rank 2 (batched). Received: `inputs.shape={ag__.ld(input).shape}`',), None, fscope)\n\n    AttributeError: Exception encountered when calling layer 'multi_segment_packer' (type MultiSegmentPacker).\n    \n    in user code:\n    \n        File \"/opt/conda/lib/python3.10/site-packages/keras_nlp/src/layers/preprocessing/multi_segment_packer.py\", line 281, in call  *\n            inputs, unbatched = self._sanitize_inputs(inputs)\n        File \"/opt/conda/lib/python3.10/site-packages/keras_nlp/src/layers/preprocessing/multi_segment_packer.py\", line 206, in _sanitize_inputs  *\n            inputs, unbatched_list, _ = list(\n        File \"/opt/conda/lib/python3.10/site-packages/keras_nlp/src/utils/tensor_utils.py\", line 114, in convert_to_ragged_batch  *\n            raise ValueError(\n    \n        AttributeError: 'function' object has no attribute 'shape'\n    \n    \n    Call arguments received by layer 'multi_segment_packer' (type MultiSegmentPacker):\n      • inputs=['tf.RaggedTensor(values=tf.RaggedTensor(values=Tensor(\"bert_preprocessor_1/bert_tokenizer/FastWordpieceTokenizeWithOffsets/FastWordpieceTokenizeWithOffsets/Cast:0\", shape=(None,), dtype=int32, device=/device:CPU:*), row_splits=Tensor(\"bert_preprocessor_1/bert_tokenizer/RaggedFromRowSplits_3/control_dependency:0\", shape=(None,), dtype=int64, device=/device:CPU:*)), row_splits=Tensor(\"bert_preprocessor_1/bert_tokenizer/RaggedFromUniformRowLength/control_dependency:0\", shape=(None,), dtype=int64, device=/device:CPU:*))']\n\n\nCall arguments received by layer \"bert_preprocessor_1\" (type BertPreprocessor):\n  • x=tf.Tensor(shape=(None, None), dtype=string)\n  • y=None\n  • sample_weight=None",
     "output_type": "error"
    }
   ]
  },
  {
   "cell_type": "code",
   "source": [
    "#input\n",
    "#backbone\n",
    "#dropout\n",
    "#logits(dense) with sigmoid\n",
    "\n",
    "layers = classifier.layers\n",
    "for layer in layers[:]:\n",
    "    print(layer.name)"
   ],
   "metadata": {
    "trusted": true
   },
   "execution_count": null,
   "outputs": []
  },
  {
   "cell_type": "markdown",
   "source": [
    "## Training"
   ],
   "metadata": {}
  },
  {
   "cell_type": "code",
   "source": [
    "\n",
    "learning_rate = 4e-3\n",
    "batch_size = 16\n",
    "\n",
    "#grid search\n",
    "\n",
    "\n",
    "\n",
    "classifier.compile(\n",
    "    loss = keras.losses.BinaryCrossentropy(from_logits=False),\n",
    "    metrics=[keras.metrics.AUC()],\n",
    "    optimizer = keras.optimizers.Adam(learning_rate),\n",
    "    jit_compile = True,\n",
    ")\n",
    "\n",
    "\n",
    "\n",
    "history = classifier.fit(\n",
    "    x = X,\n",
    "    y = y,\n",
    "    #validation_data = (X_val, y_val),\n",
    "    batch_size = batch_size,\n",
    "    epochs = 10,  # Set the number of epochs as required\n",
    "    class_weight = {0:class_weights[0],1:class_weights[1]}\n",
    ")"
   ],
   "metadata": {
    "trusted": true
   },
   "execution_count": null,
   "outputs": []
  },
  {
   "cell_type": "markdown",
   "source": [
    "## Evaluation and submission"
   ],
   "metadata": {}
  },
  {
   "cell_type": "code",
   "source": [
    "test_essays = pd.read_csv(\"/kaggle/input/llm-detect-ai-generated-text/test_essays.csv\")\n",
    "test_essays.loc[:,\"text\"] = test_essays.loc[:,\"text\"].map(lambda x : preprocess_text(x))\n",
    "\n",
    "submission_dict  = pd.DataFrame()\n",
    "submission_dict[\"id\"] = test_essays[\"id\"]\n",
    "submission_dict[\"generated\"] = np.around(classifier.predict(test_essays[\"text\"])[:,0],1)\n",
    "\n",
    "\n",
    "submission = pd.DataFrame.from_dict(submission_dict)\n",
    "submission.to_csv(\"/kaggle/working/submission.csv\",index=False)"
   ],
   "metadata": {
    "trusted": true
   },
   "execution_count": null,
   "outputs": []
  }
 ]
}
