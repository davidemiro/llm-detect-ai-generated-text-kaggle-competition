{
 "cells": [
  {
   "cell_type": "markdown",
   "id": "20780add",
   "metadata": {
    "_cell_guid": "b1076dfc-b9ad-4769-8c92-a6c4dae69d19",
    "_uuid": "8f2839f25d086af736a60e9eeb907d3b93b6e0e5",
    "execution": {
     "iopub.execute_input": "2023-12-13T02:57:42.229054Z",
     "iopub.status.busy": "2023-12-13T02:57:42.228566Z",
     "iopub.status.idle": "2023-12-13T02:57:42.305662Z",
     "shell.execute_reply": "2023-12-13T02:57:42.304262Z",
     "shell.execute_reply.started": "2023-12-13T02:57:42.229014Z"
    },
    "papermill": {
     "duration": 0.00404,
     "end_time": "2024-01-06T21:23:52.245667",
     "exception": false,
     "start_time": "2024-01-06T21:23:52.241627",
     "status": "completed"
    },
    "tags": []
   },
   "source": [
    "# LLM generation text detection"
   ]
  },
  {
   "cell_type": "code",
   "execution_count": 1,
   "id": "299e62a4",
   "metadata": {
    "execution": {
     "iopub.execute_input": "2024-01-06T21:23:52.254766Z",
     "iopub.status.busy": "2024-01-06T21:23:52.254051Z",
     "iopub.status.idle": "2024-01-06T21:24:16.715099Z",
     "shell.execute_reply": "2024-01-06T21:24:16.714003Z"
    },
    "papermill": {
     "duration": 24.468129,
     "end_time": "2024-01-06T21:24:16.717569",
     "exception": false,
     "start_time": "2024-01-06T21:23:52.249440",
     "status": "completed"
    },
    "tags": []
   },
   "outputs": [
    {
     "name": "stdout",
     "output_type": "stream",
     "text": [
      "Requirement already satisfied: transformers in /opt/conda/lib/python3.10/site-packages (4.35.2)\r\n",
      "Requirement already satisfied: filelock in /opt/conda/lib/python3.10/site-packages (from transformers) (3.12.2)\r\n",
      "Requirement already satisfied: huggingface-hub<1.0,>=0.16.4 in /opt/conda/lib/python3.10/site-packages (from transformers) (0.19.4)\r\n",
      "Requirement already satisfied: numpy>=1.17 in /opt/conda/lib/python3.10/site-packages (from transformers) (1.24.3)\r\n",
      "Requirement already satisfied: packaging>=20.0 in /opt/conda/lib/python3.10/site-packages (from transformers) (21.3)\r\n",
      "Requirement already satisfied: pyyaml>=5.1 in /opt/conda/lib/python3.10/site-packages (from transformers) (6.0.1)\r\n",
      "Requirement already satisfied: regex!=2019.12.17 in /opt/conda/lib/python3.10/site-packages (from transformers) (2023.8.8)\r\n",
      "Requirement already satisfied: requests in /opt/conda/lib/python3.10/site-packages (from transformers) (2.31.0)\r\n",
      "Requirement already satisfied: tokenizers<0.19,>=0.14 in /opt/conda/lib/python3.10/site-packages (from transformers) (0.15.0)\r\n",
      "Requirement already satisfied: safetensors>=0.3.1 in /opt/conda/lib/python3.10/site-packages (from transformers) (0.4.1)\r\n",
      "Requirement already satisfied: tqdm>=4.27 in /opt/conda/lib/python3.10/site-packages (from transformers) (4.66.1)\r\n",
      "Requirement already satisfied: fsspec>=2023.5.0 in /opt/conda/lib/python3.10/site-packages (from huggingface-hub<1.0,>=0.16.4->transformers) (2023.12.1)\r\n",
      "Requirement already satisfied: typing-extensions>=3.7.4.3 in /opt/conda/lib/python3.10/site-packages (from huggingface-hub<1.0,>=0.16.4->transformers) (4.5.0)\r\n",
      "Requirement already satisfied: pyparsing!=3.0.5,>=2.0.2 in /opt/conda/lib/python3.10/site-packages (from packaging>=20.0->transformers) (3.0.9)\r\n",
      "Requirement already satisfied: charset-normalizer<4,>=2 in /opt/conda/lib/python3.10/site-packages (from requests->transformers) (3.2.0)\r\n",
      "Requirement already satisfied: idna<4,>=2.5 in /opt/conda/lib/python3.10/site-packages (from requests->transformers) (3.4)\r\n",
      "Requirement already satisfied: urllib3<3,>=1.21.1 in /opt/conda/lib/python3.10/site-packages (from requests->transformers) (1.26.15)\r\n",
      "Requirement already satisfied: certifi>=2017.4.17 in /opt/conda/lib/python3.10/site-packages (from requests->transformers) (2023.11.17)\r\n",
      "Requirement already satisfied: tensorflow_text in /opt/conda/lib/python3.10/site-packages (2.13.0)\r\n",
      "Requirement already satisfied: tensorflow-hub>=0.8.0 in /opt/conda/lib/python3.10/site-packages (from tensorflow_text) (0.14.0)\r\n",
      "Requirement already satisfied: tensorflow<2.14,>=2.13.0 in /opt/conda/lib/python3.10/site-packages (from tensorflow_text) (2.13.0)\r\n",
      "Requirement already satisfied: absl-py>=1.0.0 in /opt/conda/lib/python3.10/site-packages (from tensorflow<2.14,>=2.13.0->tensorflow_text) (1.4.0)\r\n",
      "Requirement already satisfied: astunparse>=1.6.0 in /opt/conda/lib/python3.10/site-packages (from tensorflow<2.14,>=2.13.0->tensorflow_text) (1.6.3)\r\n",
      "Requirement already satisfied: flatbuffers>=23.1.21 in /opt/conda/lib/python3.10/site-packages (from tensorflow<2.14,>=2.13.0->tensorflow_text) (23.5.26)\r\n",
      "Requirement already satisfied: gast<=0.4.0,>=0.2.1 in /opt/conda/lib/python3.10/site-packages (from tensorflow<2.14,>=2.13.0->tensorflow_text) (0.4.0)\r\n",
      "Requirement already satisfied: google-pasta>=0.1.1 in /opt/conda/lib/python3.10/site-packages (from tensorflow<2.14,>=2.13.0->tensorflow_text) (0.2.0)\r\n",
      "Requirement already satisfied: grpcio<2.0,>=1.24.3 in /opt/conda/lib/python3.10/site-packages (from tensorflow<2.14,>=2.13.0->tensorflow_text) (1.51.1)\r\n",
      "Requirement already satisfied: h5py>=2.9.0 in /opt/conda/lib/python3.10/site-packages (from tensorflow<2.14,>=2.13.0->tensorflow_text) (3.9.0)\r\n",
      "Requirement already satisfied: keras<2.14,>=2.13.1 in /opt/conda/lib/python3.10/site-packages (from tensorflow<2.14,>=2.13.0->tensorflow_text) (2.13.1)\r\n",
      "Requirement already satisfied: libclang>=13.0.0 in /opt/conda/lib/python3.10/site-packages (from tensorflow<2.14,>=2.13.0->tensorflow_text) (16.0.6)\r\n",
      "Requirement already satisfied: numpy<=1.24.3,>=1.22 in /opt/conda/lib/python3.10/site-packages (from tensorflow<2.14,>=2.13.0->tensorflow_text) (1.24.3)\r\n",
      "Requirement already satisfied: opt-einsum>=2.3.2 in /opt/conda/lib/python3.10/site-packages (from tensorflow<2.14,>=2.13.0->tensorflow_text) (3.3.0)\r\n",
      "Requirement already satisfied: packaging in /opt/conda/lib/python3.10/site-packages (from tensorflow<2.14,>=2.13.0->tensorflow_text) (21.3)\r\n",
      "Requirement already satisfied: protobuf!=4.21.0,!=4.21.1,!=4.21.2,!=4.21.3,!=4.21.4,!=4.21.5,<5.0.0dev,>=3.20.3 in /opt/conda/lib/python3.10/site-packages (from tensorflow<2.14,>=2.13.0->tensorflow_text) (3.20.3)\r\n",
      "Requirement already satisfied: setuptools in /opt/conda/lib/python3.10/site-packages (from tensorflow<2.14,>=2.13.0->tensorflow_text) (68.1.2)\r\n",
      "Requirement already satisfied: six>=1.12.0 in /opt/conda/lib/python3.10/site-packages (from tensorflow<2.14,>=2.13.0->tensorflow_text) (1.16.0)\r\n",
      "Requirement already satisfied: tensorboard<2.14,>=2.13 in /opt/conda/lib/python3.10/site-packages (from tensorflow<2.14,>=2.13.0->tensorflow_text) (2.13.0)\r\n",
      "Requirement already satisfied: tensorflow-estimator<2.14,>=2.13.0 in /opt/conda/lib/python3.10/site-packages (from tensorflow<2.14,>=2.13.0->tensorflow_text) (2.13.0)\r\n",
      "Requirement already satisfied: termcolor>=1.1.0 in /opt/conda/lib/python3.10/site-packages (from tensorflow<2.14,>=2.13.0->tensorflow_text) (2.3.0)\r\n",
      "Requirement already satisfied: typing-extensions<4.6.0,>=3.6.6 in /opt/conda/lib/python3.10/site-packages (from tensorflow<2.14,>=2.13.0->tensorflow_text) (4.5.0)\r\n",
      "Requirement already satisfied: wrapt>=1.11.0 in /opt/conda/lib/python3.10/site-packages (from tensorflow<2.14,>=2.13.0->tensorflow_text) (1.15.0)\r\n",
      "Requirement already satisfied: tensorflow-io-gcs-filesystem>=0.23.1 in /opt/conda/lib/python3.10/site-packages (from tensorflow<2.14,>=2.13.0->tensorflow_text) (0.34.0)\r\n",
      "Requirement already satisfied: wheel<1.0,>=0.23.0 in /opt/conda/lib/python3.10/site-packages (from astunparse>=1.6.0->tensorflow<2.14,>=2.13.0->tensorflow_text) (0.41.2)\r\n",
      "Requirement already satisfied: google-auth<3,>=1.6.3 in /opt/conda/lib/python3.10/site-packages (from tensorboard<2.14,>=2.13->tensorflow<2.14,>=2.13.0->tensorflow_text) (2.22.0)\r\n",
      "Requirement already satisfied: google-auth-oauthlib<1.1,>=0.5 in /opt/conda/lib/python3.10/site-packages (from tensorboard<2.14,>=2.13->tensorflow<2.14,>=2.13.0->tensorflow_text) (1.0.0)\r\n",
      "Requirement already satisfied: markdown>=2.6.8 in /opt/conda/lib/python3.10/site-packages (from tensorboard<2.14,>=2.13->tensorflow<2.14,>=2.13.0->tensorflow_text) (3.4.4)\r\n",
      "Requirement already satisfied: requests<3,>=2.21.0 in /opt/conda/lib/python3.10/site-packages (from tensorboard<2.14,>=2.13->tensorflow<2.14,>=2.13.0->tensorflow_text) (2.31.0)\r\n",
      "Requirement already satisfied: tensorboard-data-server<0.8.0,>=0.7.0 in /opt/conda/lib/python3.10/site-packages (from tensorboard<2.14,>=2.13->tensorflow<2.14,>=2.13.0->tensorflow_text) (0.7.1)\r\n",
      "Requirement already satisfied: werkzeug>=1.0.1 in /opt/conda/lib/python3.10/site-packages (from tensorboard<2.14,>=2.13->tensorflow<2.14,>=2.13.0->tensorflow_text) (3.0.1)\r\n",
      "Requirement already satisfied: pyparsing!=3.0.5,>=2.0.2 in /opt/conda/lib/python3.10/site-packages (from packaging->tensorflow<2.14,>=2.13.0->tensorflow_text) (3.0.9)\r\n",
      "Requirement already satisfied: cachetools<6.0,>=2.0.0 in /opt/conda/lib/python3.10/site-packages (from google-auth<3,>=1.6.3->tensorboard<2.14,>=2.13->tensorflow<2.14,>=2.13.0->tensorflow_text) (4.2.4)\r\n",
      "Requirement already satisfied: pyasn1-modules>=0.2.1 in /opt/conda/lib/python3.10/site-packages (from google-auth<3,>=1.6.3->tensorboard<2.14,>=2.13->tensorflow<2.14,>=2.13.0->tensorflow_text) (0.2.7)\r\n",
      "Requirement already satisfied: rsa<5,>=3.1.4 in /opt/conda/lib/python3.10/site-packages (from google-auth<3,>=1.6.3->tensorboard<2.14,>=2.13->tensorflow<2.14,>=2.13.0->tensorflow_text) (4.9)\r\n",
      "Requirement already satisfied: urllib3<2.0 in /opt/conda/lib/python3.10/site-packages (from google-auth<3,>=1.6.3->tensorboard<2.14,>=2.13->tensorflow<2.14,>=2.13.0->tensorflow_text) (1.26.15)\r\n",
      "Requirement already satisfied: requests-oauthlib>=0.7.0 in /opt/conda/lib/python3.10/site-packages (from google-auth-oauthlib<1.1,>=0.5->tensorboard<2.14,>=2.13->tensorflow<2.14,>=2.13.0->tensorflow_text) (1.3.1)\r\n",
      "Requirement already satisfied: charset-normalizer<4,>=2 in /opt/conda/lib/python3.10/site-packages (from requests<3,>=2.21.0->tensorboard<2.14,>=2.13->tensorflow<2.14,>=2.13.0->tensorflow_text) (3.2.0)\r\n",
      "Requirement already satisfied: idna<4,>=2.5 in /opt/conda/lib/python3.10/site-packages (from requests<3,>=2.21.0->tensorboard<2.14,>=2.13->tensorflow<2.14,>=2.13.0->tensorflow_text) (3.4)\r\n",
      "Requirement already satisfied: certifi>=2017.4.17 in /opt/conda/lib/python3.10/site-packages (from requests<3,>=2.21.0->tensorboard<2.14,>=2.13->tensorflow<2.14,>=2.13.0->tensorflow_text) (2023.11.17)\r\n",
      "Requirement already satisfied: MarkupSafe>=2.1.1 in /opt/conda/lib/python3.10/site-packages (from werkzeug>=1.0.1->tensorboard<2.14,>=2.13->tensorflow<2.14,>=2.13.0->tensorflow_text) (2.1.3)\r\n",
      "Requirement already satisfied: pyasn1<0.5.0,>=0.4.6 in /opt/conda/lib/python3.10/site-packages (from pyasn1-modules>=0.2.1->google-auth<3,>=1.6.3->tensorboard<2.14,>=2.13->tensorflow<2.14,>=2.13.0->tensorflow_text) (0.4.8)\r\n",
      "Requirement already satisfied: oauthlib>=3.0.0 in /opt/conda/lib/python3.10/site-packages (from requests-oauthlib>=0.7.0->google-auth-oauthlib<1.1,>=0.5->tensorboard<2.14,>=2.13->tensorflow<2.14,>=2.13.0->tensorflow_text) (3.2.2)\r\n"
     ]
    }
   ],
   "source": [
    "!pip install transformers\n",
    "!pip install tensorflow_text\n",
    "\n"
   ]
  },
  {
   "cell_type": "code",
   "execution_count": 2,
   "id": "558c070f",
   "metadata": {
    "execution": {
     "iopub.execute_input": "2024-01-06T21:24:16.728427Z",
     "iopub.status.busy": "2024-01-06T21:24:16.728146Z",
     "iopub.status.idle": "2024-01-06T21:24:19.351473Z",
     "shell.execute_reply": "2024-01-06T21:24:19.350504Z"
    },
    "papermill": {
     "duration": 2.631436,
     "end_time": "2024-01-06T21:24:19.353863",
     "exception": false,
     "start_time": "2024-01-06T21:24:16.722427",
     "status": "completed"
    },
    "tags": []
   },
   "outputs": [],
   "source": [
    "# This Python 3 environment comes with many helpful analytics libraries installed\n",
    "# It is defined by the kaggle/python Docker image: https://github.com/kaggle/docker-python\n",
    "# For example, here's several helpful packages to load\n",
    "\n",
    "import numpy as np # linear algebra\n",
    "import pandas as pd # data processing, CSV file I/O (e.g. pd.read_csv)\n",
    "\n",
    "# Input data files are available in the read-only \"../input/\" directory\n",
    "# For example, running this (by clicking run or pressing Shift+Enter) will list all files under the input directory\n",
    "\n",
    "train_essays = pd.read_csv(\"/kaggle/input/llm-detect-ai-generated-text/train_essays.csv\")\n",
    "train_prompts = pd.read_csv(\"/kaggle/input/llm-detect-ai-generated-text/train_prompts.csv\")\n",
    "train_daigt = pd.read_csv(\"/kaggle/input/daigt-v2-train-dataset/train_v2_drcat_02.csv\")\n",
    "\n",
    "\n",
    "#train_prompts.head()\n",
    "\n",
    "# You can write up to 20GB to the current directory (/kaggle/working/) that gets preserved as output when you create a version using \"Save & Run All\" \n",
    "# You can also write temporary files to /kaggle/temp/, but they won't be saved outside of the current session"
   ]
  },
  {
   "cell_type": "markdown",
   "id": "6c5e0452",
   "metadata": {
    "papermill": {
     "duration": 0.004275,
     "end_time": "2024-01-06T21:24:19.362919",
     "exception": false,
     "start_time": "2024-01-06T21:24:19.358644",
     "status": "completed"
    },
    "tags": []
   },
   "source": [
    "## Datasets aligment"
   ]
  },
  {
   "cell_type": "code",
   "execution_count": 3,
   "id": "33ec0da5",
   "metadata": {
    "execution": {
     "iopub.execute_input": "2024-01-06T21:24:19.373240Z",
     "iopub.status.busy": "2024-01-06T21:24:19.372626Z",
     "iopub.status.idle": "2024-01-06T21:24:19.420268Z",
     "shell.execute_reply": "2024-01-06T21:24:19.419558Z"
    },
    "papermill": {
     "duration": 0.054971,
     "end_time": "2024-01-06T21:24:19.422238",
     "exception": false,
     "start_time": "2024-01-06T21:24:19.367267",
     "status": "completed"
    },
    "tags": []
   },
   "outputs": [],
   "source": [
    "train_daigt[\"generated\"] = train_daigt[\"label\"]\n",
    "train_essays = train_essays.merge(train_prompts, on='prompt_id', how='inner')\n",
    "\n",
    "train_essays = pd.concat([train_essays,train_daigt])\n",
    "\n",
    "#train_essays.loc[:,[\"prompt_name\",\"generated\"]].value_counts()\n",
    "train_essays = train_essays.sample(frac = 1)\n",
    "\n",
    "train_essays = train_essays.loc[:,[\"text\",\"generated\"]]\n"
   ]
  },
  {
   "cell_type": "markdown",
   "id": "ff31cfe0",
   "metadata": {
    "papermill": {
     "duration": 0.004284,
     "end_time": "2024-01-06T21:24:19.431278",
     "exception": false,
     "start_time": "2024-01-06T21:24:19.426994",
     "status": "completed"
    },
    "tags": []
   },
   "source": [
    "## Preprocessing"
   ]
  },
  {
   "cell_type": "code",
   "execution_count": 4,
   "id": "80adb71e",
   "metadata": {
    "execution": {
     "iopub.execute_input": "2024-01-06T21:24:19.441225Z",
     "iopub.status.busy": "2024-01-06T21:24:19.440964Z",
     "iopub.status.idle": "2024-01-06T22:07:36.498997Z",
     "shell.execute_reply": "2024-01-06T22:07:36.497957Z"
    },
    "papermill": {
     "duration": 2597.070309,
     "end_time": "2024-01-06T22:07:36.505943",
     "exception": false,
     "start_time": "2024-01-06T21:24:19.435634",
     "status": "completed"
    },
    "tags": []
   },
   "outputs": [
    {
     "name": "stderr",
     "output_type": "stream",
     "text": [
      "/opt/conda/lib/python3.10/site-packages/scipy/__init__.py:146: UserWarning: A NumPy version >=1.16.5 and <1.23.0 is required for this version of SciPy (detected version 1.24.3\n",
      "  warnings.warn(f\"A NumPy version >={np_minversion} and <{np_maxversion}\"\n"
     ]
    },
    {
     "name": "stdout",
     "output_type": "stream",
     "text": [
      "2589.328759431839\n"
     ]
    }
   ],
   "source": [
    "import re\n",
    "import spacy\n",
    "import time\n",
    "import string\n",
    "\n",
    "\n",
    "# Load the English NLP model\n",
    "nlp = spacy.load(\"en_core_web_sm\")\n",
    "\n",
    "table = str.maketrans(\"\", \"\", string.punctuation)\n",
    "table[10] = None #\\n\n",
    "table[92] = None #\\\n",
    "\n",
    "\n",
    "#to lower\n",
    "for code in range(26):\n",
    "    table[code + 65] = code +97\n",
    "\n",
    "\n",
    "\n",
    "\n",
    "def preprocess_text(text):\n",
    "    \n",
    "    #characters level preprocessing\n",
    "    #remove \\n and \\, remove puntuactions, to lower case\n",
    "    text = text.translate(table)\n",
    "    \n",
    "    # Tokenization using spaCy\n",
    "    doc = nlp(text)\n",
    "    \n",
    "    # Remove stopwords and lemmization using spaCy's built-in stopword list\n",
    "    tokens = [token.lemma_ for token in doc if not nlp.vocab[token.text].is_stop]\n",
    "    \n",
    "    return \" \".join(tokens)\n",
    "\n",
    "\n",
    "\n",
    "\n",
    "start_time = time.time()\n",
    "train_essays.loc[:,\"text\"] = train_essays.loc[:,\"text\"].map(lambda x : preprocess_text(x))\n",
    "# Convert back to pandas DataFrame (if needed)\n",
    "end_time = time.time()\n",
    "\n",
    "print(end_time - start_time)"
   ]
  },
  {
   "cell_type": "markdown",
   "id": "9726612f",
   "metadata": {
    "papermill": {
     "duration": 0.004494,
     "end_time": "2024-01-06T22:07:36.515517",
     "exception": false,
     "start_time": "2024-01-06T22:07:36.511023",
     "status": "completed"
    },
    "tags": []
   },
   "source": [
    "## BERT"
   ]
  },
  {
   "cell_type": "code",
   "execution_count": 5,
   "id": "a7b8531c",
   "metadata": {
    "execution": {
     "iopub.execute_input": "2024-01-06T22:07:36.526261Z",
     "iopub.status.busy": "2024-01-06T22:07:36.525725Z",
     "iopub.status.idle": "2024-01-07T04:23:54.278473Z",
     "shell.execute_reply": "2024-01-07T04:23:54.277363Z"
    },
    "papermill": {
     "duration": 22577.761131,
     "end_time": "2024-01-07T04:23:54.281211",
     "exception": false,
     "start_time": "2024-01-06T22:07:36.520080",
     "status": "completed"
    },
    "tags": []
   },
   "outputs": [
    {
     "name": "stdout",
     "output_type": "stream",
     "text": [
      "Using TensorFlow backend\n",
      "Downloading data from https://storage.googleapis.com/keras-nlp/models/bert_large_en_uncased/v1/vocab.txt\n",
      "231508/231508 [==============================] - 0s 2us/step\n",
      "Downloading data from https://storage.googleapis.com/keras-nlp/models/bert_large_en_uncased/v1/model.h5\n",
      "1341009960/1341009960 [==============================] - 61s 0us/step\n",
      "Epoch 1/10\n",
      "579/579 [==============================] - 2328s 4s/step - loss: 0.6896 - val_loss: 0.6806\n",
      "Epoch 2/10\n",
      "579/579 [==============================] - 2238s 4s/step - loss: 0.6784 - val_loss: 0.6763\n",
      "Epoch 3/10\n",
      "579/579 [==============================] - 2238s 4s/step - loss: 0.6707 - val_loss: 0.6709\n",
      "Epoch 4/10\n",
      "579/579 [==============================] - 2239s 4s/step - loss: 0.6654 - val_loss: 0.6650\n",
      "Epoch 5/10\n",
      "579/579 [==============================] - 2239s 4s/step - loss: 0.6601 - val_loss: 0.6620\n",
      "Epoch 6/10\n",
      "579/579 [==============================] - 2239s 4s/step - loss: 0.6559 - val_loss: 0.6571\n",
      "Epoch 7/10\n",
      "579/579 [==============================] - 2240s 4s/step - loss: 0.6516 - val_loss: 0.6563\n",
      "Epoch 8/10\n",
      "579/579 [==============================] - 2240s 4s/step - loss: 0.6477 - val_loss: 0.6541\n",
      "Epoch 9/10\n",
      "579/579 [==============================] - 2240s 4s/step - loss: 0.6448 - val_loss: 0.6482\n",
      "Epoch 10/10\n",
      "579/579 [==============================] - 2241s 4s/step - loss: 0.6416 - val_loss: 0.6447\n"
     ]
    }
   ],
   "source": [
    "import keras\n",
    "import keras_nlp\n",
    "import numpy as np\n",
    "from sklearn.utils.class_weight import compute_class_weight\n",
    "from sklearn.model_selection import train_test_split\n",
    "\n",
    "X = train_essays[\"text\"].values\n",
    "y = train_essays[\"generated\"].values\n",
    "\n",
    "\n",
    "X_train, X_val, y_train, y_val = train_test_split(X, y, test_size=0.2, stratify=y, random_state=42)\n",
    "\n",
    "# Assuming your labels are 0 and 1\n",
    "class_weights = compute_class_weight('balanced', classes=np.unique(y_train), y=y_train)\n",
    "\n",
    "\n",
    "preprocessor = keras_nlp.models.BertPreprocessor.from_preset(\n",
    "    \"bert_large_en_uncased\",\n",
    ")\n",
    "\n",
    "# Pretrained classifier without preprocessing.\n",
    "classifier = keras_nlp.models.BertClassifier.from_preset(\n",
    "    \"bert_large_en_uncased\",\n",
    "    num_classes = 1,\n",
    "    preprocessor = preprocessor,\n",
    "    \n",
    ")\n",
    "# Access backbone programmatically (e.g., to change `trainable`).\n",
    "classifier.backbone.trainable = False\n",
    "\n",
    "classifier.compile(\n",
    "    loss = keras.losses.BinaryCrossentropy(from_logits=True),\n",
    "    optimizer = keras.optimizers.Adam(5e-5),\n",
    "    jit_compile = True,\n",
    ")\n",
    "\n",
    "history = classifier.fit(\n",
    "    x = X_train,\n",
    "    y = y_train,\n",
    "    validation_data = (X_val, y_val),\n",
    "    batch_size = 64,\n",
    "    epochs = 10,  # Set the number of epochs as required\n",
    "    class_weight = {0:class_weights[0],1:class_weights[1]}\n",
    ")\n"
   ]
  },
  {
   "cell_type": "markdown",
   "id": "d477dda2",
   "metadata": {
    "papermill": {
     "duration": 0.534196,
     "end_time": "2024-01-07T04:23:55.353660",
     "exception": false,
     "start_time": "2024-01-07T04:23:54.819464",
     "status": "completed"
    },
    "tags": []
   },
   "source": [
    "## Evaluation and submission"
   ]
  },
  {
   "cell_type": "code",
   "execution_count": 6,
   "id": "d2701a47",
   "metadata": {
    "execution": {
     "iopub.execute_input": "2024-01-07T04:23:56.398554Z",
     "iopub.status.busy": "2024-01-07T04:23:56.398144Z",
     "iopub.status.idle": "2024-01-07T04:24:07.223277Z",
     "shell.execute_reply": "2024-01-07T04:24:07.222417Z"
    },
    "papermill": {
     "duration": 11.348783,
     "end_time": "2024-01-07T04:24:07.225669",
     "exception": false,
     "start_time": "2024-01-07T04:23:55.876886",
     "status": "completed"
    },
    "tags": []
   },
   "outputs": [
    {
     "name": "stdout",
     "output_type": "stream",
     "text": [
      "1/1 [==============================] - 10s 10s/step\n"
     ]
    }
   ],
   "source": [
    "test_essays = pd.read_csv(\"/kaggle/input/llm-detect-ai-generated-text/test_essays.csv\")\n",
    "submission_dict  = pd.DataFrame()\n",
    "\n",
    "submission_dict[\"id\"] = test_essays[\"id\"]\n",
    "submission_dict[\"generated\"] = classifier.predict(test_essays[\"text\"])[:,0]\n",
    "\n",
    "submission = pd.DataFrame.from_dict(submission_dict)\n",
    "submission.to_csv(\"/kaggle/working/submission.csv\")\n",
    "\n",
    "    \n"
   ]
  }
 ],
 "metadata": {
  "kaggle": {
   "accelerator": "gpu",
   "dataSources": [
    {
     "databundleVersionId": 6888007,
     "sourceId": 61542,
     "sourceType": "competition"
    },
    {
     "datasetId": 3942644,
     "sourceId": 6890527,
     "sourceType": "datasetVersion"
    },
    {
     "datasetId": 4005256,
     "sourceId": 6977472,
     "sourceType": "datasetVersion"
    },
    {
     "datasetId": 4197568,
     "sourceId": 7246053,
     "sourceType": "datasetVersion"
    }
   ],
   "dockerImageVersionId": 30615,
   "isGpuEnabled": true,
   "isInternetEnabled": true,
   "language": "python",
   "sourceType": "notebook"
  },
  "kernelspec": {
   "display_name": "Python 3",
   "language": "python",
   "name": "python3"
  },
  "language_info": {
   "codemirror_mode": {
    "name": "ipython",
    "version": 3
   },
   "file_extension": ".py",
   "mimetype": "text/x-python",
   "name": "python",
   "nbconvert_exporter": "python",
   "pygments_lexer": "ipython3",
   "version": "3.10.12"
  },
  "papermill": {
   "default_parameters": {},
   "duration": 25222.176309,
   "end_time": "2024-01-07T04:24:11.175659",
   "environment_variables": {},
   "exception": null,
   "input_path": "__notebook__.ipynb",
   "output_path": "__notebook__.ipynb",
   "parameters": {},
   "start_time": "2024-01-06T21:23:48.999350",
   "version": "2.4.0"
  }
 },
 "nbformat": 4,
 "nbformat_minor": 5
}
