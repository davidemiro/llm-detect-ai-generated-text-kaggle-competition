{
 "metadata": {
  "kernelspec": {
   "language": "python",
   "display_name": "Python 3",
   "name": "python3"
  },
  "language_info": {
   "name": "python",
   "version": "3.10.12",
   "mimetype": "text/x-python",
   "codemirror_mode": {
    "name": "ipython",
    "version": 3
   },
   "pygments_lexer": "ipython3",
   "nbconvert_exporter": "python",
   "file_extension": ".py"
  },
  "kaggle": {
   "accelerator": "none",
   "dataSources": [
    {
     "sourceType": "competition",
     "sourceId": 61542,
     "databundleVersionId": 6888007
    },
    {
     "sourceType": "datasetVersion",
     "sourceId": 6977472,
     "datasetId": 4005256,
     "databundleVersionId": 7064285
    },
    {
     "sourceType": "modelInstanceVersion",
     "sourceId": 5905,
     "databundleVersionId": 7237785,
     "modelInstanceId": 4678
    },
    {
     "sourceType": "modelInstanceVersion",
     "sourceId": 5909,
     "databundleVersionId": 7237800,
     "modelInstanceId": 4682
    },
    {
     "sourceType": "modelInstanceVersion",
     "sourceId": 6061,
     "databundleVersionId": 7429201,
     "modelInstanceId": 4682
    },
    {
     "sourceType": "modelInstanceVersion",
     "sourceId": 5902,
     "databundleVersionId": 7237780,
     "modelInstanceId": 4675
    }
   ],
   "dockerImageVersionId": 30626,
   "isInternetEnabled": false,
   "language": "python",
   "sourceType": "notebook",
   "isGpuEnabled": false
  }
 },
 "nbformat_minor": 4,
 "nbformat": 4,
 "cells": [
  {
   "cell_type": "markdown",
   "source": [
    "# LLM generation text detection "
   ],
   "metadata": {}
  },
  {
   "cell_type": "code",
   "source": [
    "import numpy as np # linear algebra\n",
    "import pandas as pd # data processing, CSV file I/O (e.g. pd.read_csv)\n",
    "import keras\n",
    "import keras_nlp\n",
    "import re\n",
    "import spacy\n",
    "import time\n",
    "import string\n",
    "\n",
    "\n",
    "train_essays = pd.read_csv(\"/kaggle/input/llm-detect-ai-generated-text/train_essays.csv\")\n",
    "train_prompts = pd.read_csv(\"/kaggle/input/llm-detect-ai-generated-text/train_prompts.csv\")\n",
    "train_daigt = pd.read_csv(\"/kaggle/input/daigt-v2-train-dataset/train_v2_drcat_02.csv\")\n",
    "\n",
    "\n"
   ],
   "metadata": {
    "execution": {
     "iopub.status.busy": "2024-01-15T22:40:50.806838Z",
     "iopub.execute_input": "2024-01-15T22:40:50.807237Z",
     "iopub.status.idle": "2024-01-15T22:40:52.063752Z",
     "shell.execute_reply.started": "2024-01-15T22:40:50.807206Z",
     "shell.execute_reply": "2024-01-15T22:40:52.062452Z"
    },
    "trusted": true
   },
   "execution_count": 9,
   "outputs": []
  },
  {
   "cell_type": "markdown",
   "source": [
    "## Datasets "
   ],
   "metadata": {}
  },
  {
   "cell_type": "code",
   "source": [
    "train_daigt[\"generated\"] = train_daigt[\"label\"]\n",
    "train_essays = train_essays.merge(train_prompts, on='prompt_id', how='inner')\n",
    "\n",
    "train_essays = pd.concat([train_essays,train_daigt])\n",
    "\n",
    "#train_essays.loc[:,[\"prompt_name\",\"generated\"]].value_counts()\n",
    "train_essays = train_essays.sample(frac = 1)\n",
    "\n",
    "train_essays = train_essays.loc[:,[\"text\",\"generated\"]]\n",
    "\n",
    "train_essays = train_essays.iloc[:10]"
   ],
   "metadata": {
    "execution": {
     "iopub.status.busy": "2024-01-15T22:41:08.852522Z",
     "iopub.execute_input": "2024-01-15T22:41:08.855946Z",
     "iopub.status.idle": "2024-01-15T22:41:08.898315Z",
     "shell.execute_reply.started": "2024-01-15T22:41:08.855903Z",
     "shell.execute_reply": "2024-01-15T22:41:08.896694Z"
    },
    "trusted": true
   },
   "execution_count": 10,
   "outputs": []
  },
  {
   "cell_type": "markdown",
   "source": [
    "## Preprocessing"
   ],
   "metadata": {}
  },
  {
   "cell_type": "code",
   "source": [
    "# Load the English NLP model\n",
    "nlp = spacy.load(\"en_core_web_sm\")\n",
    "\n",
    "table = str.maketrans(\"\", \"\", string.punctuation)\n",
    "table[10] = None #\\n\n",
    "table[92] = None #\\\n",
    "\n",
    "\n",
    "#to lower\n",
    "for code in range(26):\n",
    "    table[code + 65] = code +97\n",
    "\n",
    "\n",
    "\n",
    "\n",
    "def preprocess_text(text):\n",
    "    \n",
    "    #characters level preprocessing\n",
    "    #remove \\n and \\, remove puntuactions, to lower case\n",
    "    text = text.translate(table)\n",
    "    \n",
    "    # Tokenization using spaCy\n",
    "    doc = nlp(text)\n",
    "    \n",
    "    # Remove stopwords and lemmization using spaCy's built-in stopword list\n",
    "    tokens = [token.lemma_ for token in doc if not nlp.vocab[token.text].is_stop]\n",
    "    \n",
    "    return \" \".join(tokens)\n",
    "\n",
    "\n",
    "\n",
    "\n",
    "start_time = time.time()\n",
    "train_essays.loc[:,\"text\"] = train_essays.loc[:,\"text\"].map(lambda x : preprocess_text(x))\n",
    "# Convert back to pandas DataFrame (if needed)\n",
    "end_time = time.time()\n",
    "\n",
    "print(end_time - start_time)"
   ],
   "metadata": {
    "execution": {
     "iopub.status.busy": "2024-01-15T22:41:11.351690Z",
     "iopub.execute_input": "2024-01-15T22:41:11.352127Z",
     "iopub.status.idle": "2024-01-15T22:41:13.638584Z",
     "shell.execute_reply.started": "2024-01-15T22:41:11.352091Z",
     "shell.execute_reply": "2024-01-15T22:41:13.637073Z"
    },
    "trusted": true
   },
   "execution_count": 11,
   "outputs": [
    {
     "name": "stdout",
     "text": "1.0530376434326172\n",
     "output_type": "stream"
    }
   ]
  },
  {
   "cell_type": "markdown",
   "source": [
    "## BERT"
   ],
   "metadata": {}
  },
  {
   "cell_type": "code",
   "source": [
    "\n",
    "import tensorflow as tf\n",
    "\n",
    "from sklearn.utils.class_weight import compute_class_weight\n",
    "from sklearn.model_selection import train_test_split\n",
    "import matplotlib.pyplot as plt\n",
    "\n",
    "def bert_kernel_initializer(stddev=0.02):\n",
    "    return keras.initializers.TruncatedNormal(stddev=stddev)\n",
    "\n",
    "X = train_essays[\"text\"].values\n",
    "y = train_essays[\"generated\"].values\n",
    "\n",
    "\n",
    "\n",
    "X_train, X_val, y_train, y_val = train_test_split(X, y, test_size=0.2, stratify=y, random_state=42)\n",
    "\n",
    "# Assuming your labels are 0 and 1\n",
    "class_weights = compute_class_weight('balanced', classes=np.unique(y_train), y=y_train)\n",
    "\n",
    "BATCH_SIZE = 64\n",
    "SHUFFLE_BUFFER_SIZE = 100\n",
    "hidden_size = 1024\n",
    "dropout_prob = 0.2\n",
    "\n",
    "train_dataset = tf.data.Dataset.from_tensor_slices((X_train, y_train))\n",
    "test_dataset = tf.data.Dataset.from_tensor_slices((X_val, y_val))\n",
    "\n",
    "train_dataset = train_dataset.shuffle(SHUFFLE_BUFFER_SIZE).batch(BATCH_SIZE)\n",
    "test_dataset = test_dataset.batch(BATCH_SIZE)\n",
    "\n",
    "\n",
    "\n",
    "# Preprocessor\n",
    "preprocessor = keras_nlp.models.BertPreprocessor.from_preset(\"bert_large_en_uncased\")\n",
    "\n",
    "train_preprocessed = (\n",
    "    train_dataset.map(preprocessor, tf.data.AUTOTUNE).cache().prefetch(tf.data.AUTOTUNE)\n",
    ")\n",
    "test_preprocessed = (\n",
    "    test_dataset.map(preprocessor, tf.data.AUTOTUNE).cache().prefetch(tf.data.AUTOTUNE)\n",
    ")\n",
    "\n",
    "# Backbone\n",
    "backbone = keras_nlp.models.BertBackbone.from_preset(\"bert_large_en_uncased\")\n",
    "\n",
    "backbone.summary()\n",
    "\n",
    "\n",
    "for batch in train_preprocessed.as_numpy_iterator():\n",
    "    # Process your batch here\n",
    "    print(batch)\n",
    "\n",
    "\n",
    "backbone.trainable = False\n",
    "inputs = backbone.input\n",
    "\n",
    "print(inputs)\n",
    "pooled = backbone(inputs)[\"pooled_output\"]\n",
    "\n",
    "x = keras.layers.Dense(hidden_size)(pooled)\n",
    "x = keras.layers.Dense(hidden_size, activation = 'relu')(x)\n",
    "x = keras.layers.Dropout(dropout_prob)(x)\n",
    "x = keras.layers.Dense(hidden_size, activation='relu')(x)\n",
    "x = keras.layers.Dense(hidden_size,  activation='relu')(x)\n",
    "x = keras.layers.Dropout(dropout_prob)(x)\n",
    "x = keras.layers.Dense(hidden_size//8, activation = 'relu')(x)\n",
    "\n",
    "outputs = keras.layers.Dense(1, activation='sigmoid')(x)\n",
    "\n",
    "\n",
    "model = keras.Model(inputs, outputs)\n",
    "\n",
    "model.compile(\n",
    "    loss=keras.losses.BinaryCrossentropy(from_logits=False),\n",
    "    optimizer=keras.optimizers.AdamW(5e-5),\n",
    "    metrics = [keras.metrics.AUC()],\n",
    "    jit_compile=True,\n",
    ")"
   ],
   "metadata": {
    "_uuid": "8f2839f25d086af736a60e9eeb907d3b93b6e0e5",
    "_cell_guid": "b1076dfc-b9ad-4769-8c92-a6c4dae69d19",
    "execution": {
     "iopub.status.busy": "2024-01-16T00:35:45.441864Z",
     "iopub.execute_input": "2024-01-16T00:35:45.442298Z",
     "iopub.status.idle": "2024-01-16T00:36:14.673912Z",
     "shell.execute_reply.started": "2024-01-16T00:35:45.442263Z",
     "shell.execute_reply": "2024-01-16T00:36:14.672715Z"
    },
    "trusted": true
   },
   "execution_count": 48,
   "outputs": [
    {
     "name": "stderr",
     "text": "Attaching 'tokenizer.json' from model 'keras/bert/keras/bert_large_en_uncased/1' to your Kaggle notebook...\nAttaching 'tokenizer.json' from model 'keras/bert/keras/bert_large_en_uncased/1' to your Kaggle notebook...\nAttaching 'assets/tokenizer/vocabulary.txt' from model 'keras/bert/keras/bert_large_en_uncased/1' to your Kaggle notebook...\nAttaching 'config.json' from model 'keras/bert/keras/bert_large_en_uncased/1' to your Kaggle notebook...\nAttaching 'config.json' from model 'keras/bert/keras/bert_large_en_uncased/1' to your Kaggle notebook...\nAttaching 'model.weights.h5' from model 'keras/bert/keras/bert_large_en_uncased/1' to your Kaggle notebook...\n",
     "output_type": "stream"
    },
    {
     "name": "stdout",
     "text": "Model: \"bert_backbone\"\n__________________________________________________________________________________________________\n Layer (type)                Output Shape                 Param #   Connected to                  \n==================================================================================================\n token_ids (InputLayer)      [(None, None)]               0         []                            \n                                                                                                  \n token_embedding (Reversibl  (None, None, 1024)           3125452   ['token_ids[0][0]']           \n eEmbedding)                                              8                                       \n                                                                                                  \n segment_ids (InputLayer)    [(None, None)]               0         []                            \n                                                                                                  \n position_embedding (Positi  (None, None, 1024)           524288    ['token_embedding[0][0]']     \n onEmbedding)                                                                                     \n                                                                                                  \n segment_embedding (Embeddi  (None, None, 1024)           2048      ['segment_ids[0][0]']         \n ng)                                                                                              \n                                                                                                  \n add_8 (Add)                 (None, None, 1024)           0         ['token_embedding[0][0]',     \n                                                                     'position_embedding[0][0]',  \n                                                                     'segment_embedding[0][0]']   \n                                                                                                  \n embeddings_layer_norm (Lay  (None, None, 1024)           2048      ['add_8[0][0]']               \n erNormalization)                                                                                 \n                                                                                                  \n embeddings_dropout (Dropou  (None, None, 1024)           0         ['embeddings_layer_norm[0][0]'\n t)                                                                 ]                             \n                                                                                                  \n padding_mask (InputLayer)   [(None, None)]               0         []                            \n                                                                                                  \n transformer_layer_0 (Trans  (None, None, 1024)           1259622   ['embeddings_dropout[0][0]',  \n formerEncoder)                                           4          'padding_mask[0][0]']        \n                                                                                                  \n transformer_layer_1 (Trans  (None, None, 1024)           1259622   ['transformer_layer_0[0][0]', \n formerEncoder)                                           4          'padding_mask[0][0]']        \n                                                                                                  \n transformer_layer_2 (Trans  (None, None, 1024)           1259622   ['transformer_layer_1[0][0]', \n formerEncoder)                                           4          'padding_mask[0][0]']        \n                                                                                                  \n transformer_layer_3 (Trans  (None, None, 1024)           1259622   ['transformer_layer_2[0][0]', \n formerEncoder)                                           4          'padding_mask[0][0]']        \n                                                                                                  \n transformer_layer_4 (Trans  (None, None, 1024)           1259622   ['transformer_layer_3[0][0]', \n formerEncoder)                                           4          'padding_mask[0][0]']        \n                                                                                                  \n transformer_layer_5 (Trans  (None, None, 1024)           1259622   ['transformer_layer_4[0][0]', \n formerEncoder)                                           4          'padding_mask[0][0]']        \n                                                                                                  \n transformer_layer_6 (Trans  (None, None, 1024)           1259622   ['transformer_layer_5[0][0]', \n formerEncoder)                                           4          'padding_mask[0][0]']        \n                                                                                                  \n transformer_layer_7 (Trans  (None, None, 1024)           1259622   ['transformer_layer_6[0][0]', \n formerEncoder)                                           4          'padding_mask[0][0]']        \n                                                                                                  \n transformer_layer_8 (Trans  (None, None, 1024)           1259622   ['transformer_layer_7[0][0]', \n formerEncoder)                                           4          'padding_mask[0][0]']        \n                                                                                                  \n transformer_layer_9 (Trans  (None, None, 1024)           1259622   ['transformer_layer_8[0][0]', \n formerEncoder)                                           4          'padding_mask[0][0]']        \n                                                                                                  \n transformer_layer_10 (Tran  (None, None, 1024)           1259622   ['transformer_layer_9[0][0]', \n sformerEncoder)                                          4          'padding_mask[0][0]']        \n                                                                                                  \n transformer_layer_11 (Tran  (None, None, 1024)           1259622   ['transformer_layer_10[0][0]',\n sformerEncoder)                                          4          'padding_mask[0][0]']        \n                                                                                                  \n transformer_layer_12 (Tran  (None, None, 1024)           1259622   ['transformer_layer_11[0][0]',\n sformerEncoder)                                          4          'padding_mask[0][0]']        \n                                                                                                  \n transformer_layer_13 (Tran  (None, None, 1024)           1259622   ['transformer_layer_12[0][0]',\n sformerEncoder)                                          4          'padding_mask[0][0]']        \n                                                                                                  \n transformer_layer_14 (Tran  (None, None, 1024)           1259622   ['transformer_layer_13[0][0]',\n sformerEncoder)                                          4          'padding_mask[0][0]']        \n                                                                                                  \n transformer_layer_15 (Tran  (None, None, 1024)           1259622   ['transformer_layer_14[0][0]',\n sformerEncoder)                                          4          'padding_mask[0][0]']        \n                                                                                                  \n transformer_layer_16 (Tran  (None, None, 1024)           1259622   ['transformer_layer_15[0][0]',\n sformerEncoder)                                          4          'padding_mask[0][0]']        \n                                                                                                  \n transformer_layer_17 (Tran  (None, None, 1024)           1259622   ['transformer_layer_16[0][0]',\n sformerEncoder)                                          4          'padding_mask[0][0]']        \n                                                                                                  \n transformer_layer_18 (Tran  (None, None, 1024)           1259622   ['transformer_layer_17[0][0]',\n sformerEncoder)                                          4          'padding_mask[0][0]']        \n                                                                                                  \n transformer_layer_19 (Tran  (None, None, 1024)           1259622   ['transformer_layer_18[0][0]',\n sformerEncoder)                                          4          'padding_mask[0][0]']        \n                                                                                                  \n transformer_layer_20 (Tran  (None, None, 1024)           1259622   ['transformer_layer_19[0][0]',\n sformerEncoder)                                          4          'padding_mask[0][0]']        \n                                                                                                  \n transformer_layer_21 (Tran  (None, None, 1024)           1259622   ['transformer_layer_20[0][0]',\n sformerEncoder)                                          4          'padding_mask[0][0]']        \n                                                                                                  \n transformer_layer_22 (Tran  (None, None, 1024)           1259622   ['transformer_layer_21[0][0]',\n sformerEncoder)                                          4          'padding_mask[0][0]']        \n                                                                                                  \n transformer_layer_23 (Tran  (None, None, 1024)           1259622   ['transformer_layer_22[0][0]',\n sformerEncoder)                                          4          'padding_mask[0][0]']        \n                                                                                                  \n pooled_dense (Dense)        (None, None, 1024)           1049600   ['transformer_layer_23[0][0]']\n                                                                                                  \n tf.__operators__.getitem_9  (None, 1024)                 0         ['pooled_dense[0][0]']        \n  (SlicingOpLambda)                                                                               \n                                                                                                  \n==================================================================================================\nTotal params: 335141888 (1.25 GB)\nTrainable params: 335141888 (1.25 GB)\nNon-trainable params: 0 (0.00 Byte)\n__________________________________________________________________________________________________\n({'token_ids': array([[ 101, 3198, 6040, ...,    0,    0,    0],\n       [ 101, 2425, 2612, ...,    0,    0,    0],\n       [ 101, 6203, 3836, ...,    0,    0,    0],\n       ...,\n       [ 101, 6203, 4054, ...,    0,    0,    0],\n       [ 101, 3042, 4439, ...,    0,    0,    0],\n       [ 101, 3522, 2095, ...,    0,    0,    0]], dtype=int32), 'segment_ids': array([[0, 0, 0, ..., 0, 0, 0],\n       [0, 0, 0, ..., 0, 0, 0],\n       [0, 0, 0, ..., 0, 0, 0],\n       ...,\n       [0, 0, 0, ..., 0, 0, 0],\n       [0, 0, 0, ..., 0, 0, 0],\n       [0, 0, 0, ..., 0, 0, 0]], dtype=int32), 'padding_mask': array([[ True,  True,  True, ..., False, False, False],\n       [ True,  True,  True, ..., False, False, False],\n       [ True,  True,  True, ..., False, False, False],\n       ...,\n       [ True,  True,  True, ..., False, False, False],\n       [ True,  True,  True, ..., False, False, False],\n       [ True,  True,  True, ..., False, False, False]])}, array([0, 0, 0, 1, 1, 0, 0, 1]))\n{'token_ids': <KerasTensor: shape=(None, None) dtype=int32 (created by layer 'token_ids')>, 'segment_ids': <KerasTensor: shape=(None, None) dtype=int32 (created by layer 'segment_ids')>, 'padding_mask': <KerasTensor: shape=(None, None) dtype=int32 (created by layer 'padding_mask')>}\n",
     "output_type": "stream"
    }
   ]
  },
  {
   "cell_type": "markdown",
   "source": [
    "## Training"
   ],
   "metadata": {}
  },
  {
   "cell_type": "code",
   "source": [
    "\n",
    "model.fit(\n",
    "    train_preprocessed,\n",
    "    epochs=10\n",
    "    #class_weight = {0:class_weights[0],1:class_weights[1]}\n",
    ")"
   ],
   "metadata": {
    "execution": {
     "iopub.status.busy": "2024-01-16T00:49:04.726995Z",
     "iopub.execute_input": "2024-01-16T00:49:04.727491Z",
     "iopub.status.idle": "2024-01-16T00:56:16.941038Z",
     "shell.execute_reply.started": "2024-01-16T00:49:04.727453Z",
     "shell.execute_reply": "2024-01-16T00:56:16.939810Z"
    },
    "trusted": true
   },
   "execution_count": 49,
   "outputs": [
    {
     "name": "stdout",
     "text": "Epoch 1/10\n1/1 [==============================] - 88s 88s/step - loss: 0.6366 - auc_12: 0.6000\nEpoch 2/10\n1/1 [==============================] - 33s 33s/step - loss: 0.5933 - auc_12: 0.8667\nEpoch 3/10\n1/1 [==============================] - 33s 33s/step - loss: 0.6104 - auc_12: 0.8000\nEpoch 4/10\n1/1 [==============================] - 33s 33s/step - loss: 0.6205 - auc_12: 0.7333\nEpoch 5/10\n1/1 [==============================] - 33s 33s/step - loss: 0.7630 - auc_12: 0.2333\nEpoch 6/10\n1/1 [==============================] - 33s 33s/step - loss: 0.7699 - auc_12: 0.0000e+00\nEpoch 7/10\n1/1 [==============================] - 33s 33s/step - loss: 0.5911 - auc_12: 0.7667\nEpoch 8/10\n1/1 [==============================] - 33s 33s/step - loss: 0.6548 - auc_12: 0.5333\nEpoch 9/10\n1/1 [==============================] - 33s 33s/step - loss: 0.6785 - auc_12: 0.4667\nEpoch 10/10\n1/1 [==============================] - 33s 33s/step - loss: 0.7562 - auc_12: 0.2667\n",
     "output_type": "stream"
    },
    {
     "execution_count": 49,
     "output_type": "execute_result",
     "data": {
      "text/plain": "<keras.src.callbacks.History at 0x7d72e81bf3d0>"
     },
     "metadata": {}
    }
   ]
  },
  {
   "cell_type": "markdown",
   "source": [
    "## Evaluation and submission"
   ],
   "metadata": {}
  },
  {
   "cell_type": "code",
   "source": [
    "test_essays = pd.read_csv(\"/kaggle/input/llm-detect-ai-generated-text/test_essays.csv\")\n",
    "test_essays.loc[:,\"text\"] = test_essays.loc[:,\"text\"].map(lambda x : preprocess_text(x))\n",
    "\n",
    "submission_dict  = pd.DataFrame()\n",
    "submission_dict[\"id\"] = test_essays[\"id\"]\n",
    "submission_dict[\"generated\"] = np.around(classifier.predict(test_essays[\"text\"])[:,0],1)\n",
    "\n",
    "\n",
    "submission = pd.DataFrame.from_dict(submission_dict)\n",
    "submission.to_csv(\"/kaggle/working/submission.csv\",index=False)"
   ],
   "metadata": {
    "trusted": true
   },
   "execution_count": null,
   "outputs": []
  }
 ]
}
